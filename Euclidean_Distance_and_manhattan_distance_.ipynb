{
  "cells": [
    {
      "cell_type": "markdown",
      "metadata": {
        "id": "view-in-github",
        "colab_type": "text"
      },
      "source": [
        "<a href=\"https://colab.research.google.com/github/shravanisorte2003/ML-and-DL/blob/main/Euclidean_Distance_and_manhattan_distance_.ipynb\" target=\"_parent\"><img src=\"https://colab.research.google.com/assets/colab-badge.svg\" alt=\"Open In Colab\"/></a>"
      ]
    },
    {
      "cell_type": "code",
      "execution_count": null,
      "metadata": {
        "id": "n2jcothS5XTb"
      },
      "outputs": [],
      "source": [
        "import numpy as np"
      ]
    },
    {
      "cell_type": "code",
      "execution_count": null,
      "metadata": {
        "id": "HeadcnvX82rw"
      },
      "outputs": [],
      "source": [
        "#consider 2 points with 2 dimentions\n",
        "p1=(1,1)\n",
        "p2=(2,2)\n",
        "\n"
      ]
    },
    {
      "cell_type": "code",
      "execution_count": null,
      "metadata": {
        "colab": {
          "base_uri": "https://localhost:8080/"
        },
        "id": "iSUQCKRI9G8m",
        "outputId": "894dd094-0db4-42e0-96e7-d7bed5a8b8f4"
      },
      "outputs": [
        {
          "name": "stdout",
          "output_type": "stream",
          "text": [
            "1.4142135623730951\n"
          ]
        }
      ],
      "source": [
        "#calculating euclidean distance\n",
        "dist=(p1[0]-p2[0])**2+(p1[1]-p2[1])**2\n",
        "\n",
        "euclidean_dist=np.sqrt(dist)\n",
        "print(euclidean_dist)"
      ]
    },
    {
      "cell_type": "markdown",
      "metadata": {
        "id": "U-R52Dmn9u22"
      },
      "source": []
    },
    {
      "cell_type": "code",
      "execution_count": null,
      "metadata": {
        "colab": {
          "base_uri": "https://localhost:8080/"
        },
        "id": "FHZzN6E89iwf",
        "outputId": "c00d4806-5ad1-4a26-82a9-1c4978850eea"
      },
      "outputs": [
        {
          "name": "stdout",
          "output_type": "stream",
          "text": [
            "2.449489742783178\n"
          ]
        }
      ],
      "source": [
        "#consider two points with 3 dimentions\n",
        "p1=(1,1,2)\n",
        "p2=(2,2,4)\n",
        "dist=(p1[0]-p2[0])**2+(p1[1]-p2[1])**2+(p1[2]-p2[2])**2\n",
        "\n",
        "euclidean_dist=np.sqrt(dist)\n",
        "print(euclidean_dist)\n"
      ]
    },
    {
      "cell_type": "code",
      "execution_count": null,
      "metadata": {
        "colab": {
          "base_uri": "https://localhost:8080/"
        },
        "id": "vstAkGTG98Qm",
        "outputId": "448a7e3b-10d3-4f08-8d54-803b18d21794"
      },
      "outputs": [
        {
          "name": "stdout",
          "output_type": "stream",
          "text": [
            "2.449489742783178\n"
          ]
        }
      ],
      "source": [
        "p1=(1,1,2)\n",
        "p2=(2,2,4)\n",
        "dist=0\n",
        "for i in range(len(p1)):\n",
        "  dist=dist+(p1[i]-p2[i])**2\n",
        "euclidean_dist=np.sqrt(dist)\n",
        "print(euclidean_dist)\n",
        "\n"
      ]
    },
    {
      "cell_type": "markdown",
      "metadata": {
        "id": "gJvH1d7l-vjq"
      },
      "source": [
        "Creating the function for calculating Euclidean Distance"
      ]
    },
    {
      "cell_type": "code",
      "execution_count": null,
      "metadata": {
        "colab": {
          "background_save": true
        },
        "id": "elGCwzj7-eeD"
      },
      "outputs": [],
      "source": [
        "def get_euclidean_distance(p1,p2):\n",
        "  dist=0\n",
        "  for i in range(len(p1)):\n",
        "    dist=dist+(p1[i]-p2[i])**2\n",
        "  euclidean_dist=np.sqrt(dist)\n",
        "  print(euclidean_dist)\n"
      ]
    },
    {
      "cell_type": "code",
      "execution_count": null,
      "metadata": {
        "id": "gpvqI_6g_DS9",
        "colab": {
          "base_uri": "https://localhost:8080/"
        },
        "outputId": "fe830432-3de6-4845-e3fc-a3041faccb91"
      },
      "outputs": [
        {
          "output_type": "stream",
          "name": "stdout",
          "text": [
            "2.8284271247461903\n"
          ]
        }
      ],
      "source": [
        "get_euclidean_distance((2,3,4),(4,3,2))"
      ]
    },
    {
      "cell_type": "markdown",
      "source": [
        "Manhattan Distance"
      ],
      "metadata": {
        "id": "c8P54WL8AhA9"
      }
    },
    {
      "cell_type": "code",
      "source": [
        "def get_manhattan_distance(p1,p2):\n",
        "  dist=0\n",
        "  for i in range(len(p1)):\n",
        "    dist=dist+abs(p1[i]-p2[i])\n",
        "  manhattan_dist=dist\n",
        "  print(manhattan_dist)\n"
      ],
      "metadata": {
        "id": "FvRLFwnZAbYE"
      },
      "execution_count": null,
      "outputs": []
    },
    {
      "cell_type": "code",
      "source": [
        "get_manhattan_distance((1,1,1,1),(2,2,2,2))"
      ],
      "metadata": {
        "colab": {
          "base_uri": "https://localhost:8080/"
        },
        "id": "_7w2jiKiAyQK",
        "outputId": "f8534f0c-e520-464b-80ac-b97c4ed97df1"
      },
      "execution_count": null,
      "outputs": [
        {
          "output_type": "stream",
          "name": "stdout",
          "text": [
            "4\n"
          ]
        }
      ]
    },
    {
      "cell_type": "code",
      "source": [
        "#distance between two similar data points\n",
        "print(get_euclidean_distance((1,1,1,1),(2,2,2,2)))\n",
        "print(get_manhattan_distance((1,1,1,1),(2,2,2,2)))"
      ],
      "metadata": {
        "colab": {
          "base_uri": "https://localhost:8080/"
        },
        "id": "YzNx7d9lBB4k",
        "outputId": "208e92fa-7497-43a7-e558-00a4907c8801"
      },
      "execution_count": null,
      "outputs": [
        {
          "output_type": "stream",
          "name": "stdout",
          "text": [
            "2.0\n",
            "None\n",
            "4\n",
            "None\n"
          ]
        }
      ]
    },
    {
      "cell_type": "code",
      "source": [],
      "metadata": {
        "id": "9W1Ca4ffB7E1"
      },
      "execution_count": null,
      "outputs": []
    }
  ],
  "metadata": {
    "colab": {
      "provenance": [],
      "authorship_tag": "ABX9TyPrcl0YWXS9tHe6nIfuR44Y",
      "include_colab_link": true
    },
    "kernelspec": {
      "display_name": "Python 3",
      "name": "python3"
    },
    "language_info": {
      "name": "python"
    }
  },
  "nbformat": 4,
  "nbformat_minor": 0
}