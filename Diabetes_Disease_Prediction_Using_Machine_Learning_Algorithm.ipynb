{
  "cells": [
    {
      "cell_type": "markdown",
      "metadata": {
        "id": "view-in-github",
        "colab_type": "text"
      },
      "source": [
        "<a href=\"https://colab.research.google.com/github/shravanisorte2003/ML-and-DL/blob/main/Diabetes_Disease_Prediction_Using_Machine_Learning_Algorithm.ipynb\" target=\"_parent\"><img src=\"https://colab.research.google.com/assets/colab-badge.svg\" alt=\"Open In Colab\"/></a>"
      ]
    },
    {
      "cell_type": "markdown",
      "metadata": {
        "id": "od8NX13v58WW"
      },
      "source": [
        "# Importing Libraries"
      ],
      "id": "od8NX13v58WW"
    },
    {
      "cell_type": "code",
      "execution_count": null,
      "metadata": {
        "id": "3ncGnxbE58WY"
      },
      "outputs": [],
      "source": [
        "import pandas as pd\n",
        "import numpy as np\n",
        "import matplotlib.pyplot as plt\n",
        "import seaborn as sns\n",
        "from sklearn.metrics import accuracy_score\n",
        "import warnings\n",
        "warnings.filterwarnings('ignore')"
      ],
      "id": "3ncGnxbE58WY"
    },
    {
      "cell_type": "code",
      "execution_count": null,
      "metadata": {
        "id": "OV0CCerU58WZ"
      },
      "outputs": [],
      "source": [
        "dataset = pd.read_csv('diabetes.csv')"
      ],
      "id": "OV0CCerU58WZ"
    },
    {
      "cell_type": "code",
      "execution_count": null,
      "metadata": {
        "colab": {
          "base_uri": "https://localhost:8080/",
          "height": 206
        },
        "id": "MIZQml8u58WZ",
        "outputId": "4faba644-5078-404d-c59b-ccf4a25d06e0"
      },
      "outputs": [
        {
          "output_type": "execute_result",
          "data": {
            "text/plain": [
              "   Pregnancies  Glucose  BloodPressure  SkinThickness  Insulin   BMI  \\\n",
              "0            6      148             72             35        0  33.6   \n",
              "1            1       85             66             29        0  26.6   \n",
              "2            8      183             64              0        0  23.3   \n",
              "3            1       89             66             23       94  28.1   \n",
              "4            0      137             40             35      168  43.1   \n",
              "\n",
              "   DiabetesPedigreeFunction  Age  Outcome  \n",
              "0                     0.627   50        1  \n",
              "1                     0.351   31        0  \n",
              "2                     0.672   32        1  \n",
              "3                     0.167   21        0  \n",
              "4                     2.288   33        1  "
            ],
            "text/html": [
              "\n",
              "  <div id=\"df-e30fc71d-baca-4d48-a4c8-fa6033d82454\" class=\"colab-df-container\">\n",
              "    <div>\n",
              "<style scoped>\n",
              "    .dataframe tbody tr th:only-of-type {\n",
              "        vertical-align: middle;\n",
              "    }\n",
              "\n",
              "    .dataframe tbody tr th {\n",
              "        vertical-align: top;\n",
              "    }\n",
              "\n",
              "    .dataframe thead th {\n",
              "        text-align: right;\n",
              "    }\n",
              "</style>\n",
              "<table border=\"1\" class=\"dataframe\">\n",
              "  <thead>\n",
              "    <tr style=\"text-align: right;\">\n",
              "      <th></th>\n",
              "      <th>Pregnancies</th>\n",
              "      <th>Glucose</th>\n",
              "      <th>BloodPressure</th>\n",
              "      <th>SkinThickness</th>\n",
              "      <th>Insulin</th>\n",
              "      <th>BMI</th>\n",
              "      <th>DiabetesPedigreeFunction</th>\n",
              "      <th>Age</th>\n",
              "      <th>Outcome</th>\n",
              "    </tr>\n",
              "  </thead>\n",
              "  <tbody>\n",
              "    <tr>\n",
              "      <th>0</th>\n",
              "      <td>6</td>\n",
              "      <td>148</td>\n",
              "      <td>72</td>\n",
              "      <td>35</td>\n",
              "      <td>0</td>\n",
              "      <td>33.6</td>\n",
              "      <td>0.627</td>\n",
              "      <td>50</td>\n",
              "      <td>1</td>\n",
              "    </tr>\n",
              "    <tr>\n",
              "      <th>1</th>\n",
              "      <td>1</td>\n",
              "      <td>85</td>\n",
              "      <td>66</td>\n",
              "      <td>29</td>\n",
              "      <td>0</td>\n",
              "      <td>26.6</td>\n",
              "      <td>0.351</td>\n",
              "      <td>31</td>\n",
              "      <td>0</td>\n",
              "    </tr>\n",
              "    <tr>\n",
              "      <th>2</th>\n",
              "      <td>8</td>\n",
              "      <td>183</td>\n",
              "      <td>64</td>\n",
              "      <td>0</td>\n",
              "      <td>0</td>\n",
              "      <td>23.3</td>\n",
              "      <td>0.672</td>\n",
              "      <td>32</td>\n",
              "      <td>1</td>\n",
              "    </tr>\n",
              "    <tr>\n",
              "      <th>3</th>\n",
              "      <td>1</td>\n",
              "      <td>89</td>\n",
              "      <td>66</td>\n",
              "      <td>23</td>\n",
              "      <td>94</td>\n",
              "      <td>28.1</td>\n",
              "      <td>0.167</td>\n",
              "      <td>21</td>\n",
              "      <td>0</td>\n",
              "    </tr>\n",
              "    <tr>\n",
              "      <th>4</th>\n",
              "      <td>0</td>\n",
              "      <td>137</td>\n",
              "      <td>40</td>\n",
              "      <td>35</td>\n",
              "      <td>168</td>\n",
              "      <td>43.1</td>\n",
              "      <td>2.288</td>\n",
              "      <td>33</td>\n",
              "      <td>1</td>\n",
              "    </tr>\n",
              "  </tbody>\n",
              "</table>\n",
              "</div>\n",
              "    <div class=\"colab-df-buttons\">\n",
              "\n",
              "  <div class=\"colab-df-container\">\n",
              "    <button class=\"colab-df-convert\" onclick=\"convertToInteractive('df-e30fc71d-baca-4d48-a4c8-fa6033d82454')\"\n",
              "            title=\"Convert this dataframe to an interactive table.\"\n",
              "            style=\"display:none;\">\n",
              "\n",
              "  <svg xmlns=\"http://www.w3.org/2000/svg\" height=\"24px\" viewBox=\"0 -960 960 960\">\n",
              "    <path d=\"M120-120v-720h720v720H120Zm60-500h600v-160H180v160Zm220 220h160v-160H400v160Zm0 220h160v-160H400v160ZM180-400h160v-160H180v160Zm440 0h160v-160H620v160ZM180-180h160v-160H180v160Zm440 0h160v-160H620v160Z\"/>\n",
              "  </svg>\n",
              "    </button>\n",
              "\n",
              "  <style>\n",
              "    .colab-df-container {\n",
              "      display:flex;\n",
              "      gap: 12px;\n",
              "    }\n",
              "\n",
              "    .colab-df-convert {\n",
              "      background-color: #E8F0FE;\n",
              "      border: none;\n",
              "      border-radius: 50%;\n",
              "      cursor: pointer;\n",
              "      display: none;\n",
              "      fill: #1967D2;\n",
              "      height: 32px;\n",
              "      padding: 0 0 0 0;\n",
              "      width: 32px;\n",
              "    }\n",
              "\n",
              "    .colab-df-convert:hover {\n",
              "      background-color: #E2EBFA;\n",
              "      box-shadow: 0px 1px 2px rgba(60, 64, 67, 0.3), 0px 1px 3px 1px rgba(60, 64, 67, 0.15);\n",
              "      fill: #174EA6;\n",
              "    }\n",
              "\n",
              "    .colab-df-buttons div {\n",
              "      margin-bottom: 4px;\n",
              "    }\n",
              "\n",
              "    [theme=dark] .colab-df-convert {\n",
              "      background-color: #3B4455;\n",
              "      fill: #D2E3FC;\n",
              "    }\n",
              "\n",
              "    [theme=dark] .colab-df-convert:hover {\n",
              "      background-color: #434B5C;\n",
              "      box-shadow: 0px 1px 3px 1px rgba(0, 0, 0, 0.15);\n",
              "      filter: drop-shadow(0px 1px 2px rgba(0, 0, 0, 0.3));\n",
              "      fill: #FFFFFF;\n",
              "    }\n",
              "  </style>\n",
              "\n",
              "    <script>\n",
              "      const buttonEl =\n",
              "        document.querySelector('#df-e30fc71d-baca-4d48-a4c8-fa6033d82454 button.colab-df-convert');\n",
              "      buttonEl.style.display =\n",
              "        google.colab.kernel.accessAllowed ? 'block' : 'none';\n",
              "\n",
              "      async function convertToInteractive(key) {\n",
              "        const element = document.querySelector('#df-e30fc71d-baca-4d48-a4c8-fa6033d82454');\n",
              "        const dataTable =\n",
              "          await google.colab.kernel.invokeFunction('convertToInteractive',\n",
              "                                                    [key], {});\n",
              "        if (!dataTable) return;\n",
              "\n",
              "        const docLinkHtml = 'Like what you see? Visit the ' +\n",
              "          '<a target=\"_blank\" href=https://colab.research.google.com/notebooks/data_table.ipynb>data table notebook</a>'\n",
              "          + ' to learn more about interactive tables.';\n",
              "        element.innerHTML = '';\n",
              "        dataTable['output_type'] = 'display_data';\n",
              "        await google.colab.output.renderOutput(dataTable, element);\n",
              "        const docLink = document.createElement('div');\n",
              "        docLink.innerHTML = docLinkHtml;\n",
              "        element.appendChild(docLink);\n",
              "      }\n",
              "    </script>\n",
              "  </div>\n",
              "\n",
              "\n",
              "<div id=\"df-67b4df67-0d97-45e9-8dec-7ce53f13fa78\">\n",
              "  <button class=\"colab-df-quickchart\" onclick=\"quickchart('df-67b4df67-0d97-45e9-8dec-7ce53f13fa78')\"\n",
              "            title=\"Suggest charts\"\n",
              "            style=\"display:none;\">\n",
              "\n",
              "<svg xmlns=\"http://www.w3.org/2000/svg\" height=\"24px\"viewBox=\"0 0 24 24\"\n",
              "     width=\"24px\">\n",
              "    <g>\n",
              "        <path d=\"M19 3H5c-1.1 0-2 .9-2 2v14c0 1.1.9 2 2 2h14c1.1 0 2-.9 2-2V5c0-1.1-.9-2-2-2zM9 17H7v-7h2v7zm4 0h-2V7h2v10zm4 0h-2v-4h2v4z\"/>\n",
              "    </g>\n",
              "</svg>\n",
              "  </button>\n",
              "\n",
              "<style>\n",
              "  .colab-df-quickchart {\n",
              "      --bg-color: #E8F0FE;\n",
              "      --fill-color: #1967D2;\n",
              "      --hover-bg-color: #E2EBFA;\n",
              "      --hover-fill-color: #174EA6;\n",
              "      --disabled-fill-color: #AAA;\n",
              "      --disabled-bg-color: #DDD;\n",
              "  }\n",
              "\n",
              "  [theme=dark] .colab-df-quickchart {\n",
              "      --bg-color: #3B4455;\n",
              "      --fill-color: #D2E3FC;\n",
              "      --hover-bg-color: #434B5C;\n",
              "      --hover-fill-color: #FFFFFF;\n",
              "      --disabled-bg-color: #3B4455;\n",
              "      --disabled-fill-color: #666;\n",
              "  }\n",
              "\n",
              "  .colab-df-quickchart {\n",
              "    background-color: var(--bg-color);\n",
              "    border: none;\n",
              "    border-radius: 50%;\n",
              "    cursor: pointer;\n",
              "    display: none;\n",
              "    fill: var(--fill-color);\n",
              "    height: 32px;\n",
              "    padding: 0;\n",
              "    width: 32px;\n",
              "  }\n",
              "\n",
              "  .colab-df-quickchart:hover {\n",
              "    background-color: var(--hover-bg-color);\n",
              "    box-shadow: 0 1px 2px rgba(60, 64, 67, 0.3), 0 1px 3px 1px rgba(60, 64, 67, 0.15);\n",
              "    fill: var(--button-hover-fill-color);\n",
              "  }\n",
              "\n",
              "  .colab-df-quickchart-complete:disabled,\n",
              "  .colab-df-quickchart-complete:disabled:hover {\n",
              "    background-color: var(--disabled-bg-color);\n",
              "    fill: var(--disabled-fill-color);\n",
              "    box-shadow: none;\n",
              "  }\n",
              "\n",
              "  .colab-df-spinner {\n",
              "    border: 2px solid var(--fill-color);\n",
              "    border-color: transparent;\n",
              "    border-bottom-color: var(--fill-color);\n",
              "    animation:\n",
              "      spin 1s steps(1) infinite;\n",
              "  }\n",
              "\n",
              "  @keyframes spin {\n",
              "    0% {\n",
              "      border-color: transparent;\n",
              "      border-bottom-color: var(--fill-color);\n",
              "      border-left-color: var(--fill-color);\n",
              "    }\n",
              "    20% {\n",
              "      border-color: transparent;\n",
              "      border-left-color: var(--fill-color);\n",
              "      border-top-color: var(--fill-color);\n",
              "    }\n",
              "    30% {\n",
              "      border-color: transparent;\n",
              "      border-left-color: var(--fill-color);\n",
              "      border-top-color: var(--fill-color);\n",
              "      border-right-color: var(--fill-color);\n",
              "    }\n",
              "    40% {\n",
              "      border-color: transparent;\n",
              "      border-right-color: var(--fill-color);\n",
              "      border-top-color: var(--fill-color);\n",
              "    }\n",
              "    60% {\n",
              "      border-color: transparent;\n",
              "      border-right-color: var(--fill-color);\n",
              "    }\n",
              "    80% {\n",
              "      border-color: transparent;\n",
              "      border-right-color: var(--fill-color);\n",
              "      border-bottom-color: var(--fill-color);\n",
              "    }\n",
              "    90% {\n",
              "      border-color: transparent;\n",
              "      border-bottom-color: var(--fill-color);\n",
              "    }\n",
              "  }\n",
              "</style>\n",
              "\n",
              "  <script>\n",
              "    async function quickchart(key) {\n",
              "      const quickchartButtonEl =\n",
              "        document.querySelector('#' + key + ' button');\n",
              "      quickchartButtonEl.disabled = true;  // To prevent multiple clicks.\n",
              "      quickchartButtonEl.classList.add('colab-df-spinner');\n",
              "      try {\n",
              "        const charts = await google.colab.kernel.invokeFunction(\n",
              "            'suggestCharts', [key], {});\n",
              "      } catch (error) {\n",
              "        console.error('Error during call to suggestCharts:', error);\n",
              "      }\n",
              "      quickchartButtonEl.classList.remove('colab-df-spinner');\n",
              "      quickchartButtonEl.classList.add('colab-df-quickchart-complete');\n",
              "    }\n",
              "    (() => {\n",
              "      let quickchartButtonEl =\n",
              "        document.querySelector('#df-67b4df67-0d97-45e9-8dec-7ce53f13fa78 button');\n",
              "      quickchartButtonEl.style.display =\n",
              "        google.colab.kernel.accessAllowed ? 'block' : 'none';\n",
              "    })();\n",
              "  </script>\n",
              "</div>\n",
              "\n",
              "    </div>\n",
              "  </div>\n"
            ],
            "application/vnd.google.colaboratory.intrinsic+json": {
              "type": "dataframe",
              "variable_name": "dataset",
              "summary": "{\n  \"name\": \"dataset\",\n  \"rows\": 768,\n  \"fields\": [\n    {\n      \"column\": \"Pregnancies\",\n      \"properties\": {\n        \"dtype\": \"number\",\n        \"std\": 3,\n        \"min\": 0,\n        \"max\": 17,\n        \"num_unique_values\": 17,\n        \"samples\": [\n          6,\n          1,\n          3\n        ],\n        \"semantic_type\": \"\",\n        \"description\": \"\"\n      }\n    },\n    {\n      \"column\": \"Glucose\",\n      \"properties\": {\n        \"dtype\": \"number\",\n        \"std\": 31,\n        \"min\": 0,\n        \"max\": 199,\n        \"num_unique_values\": 136,\n        \"samples\": [\n          151,\n          101,\n          112\n        ],\n        \"semantic_type\": \"\",\n        \"description\": \"\"\n      }\n    },\n    {\n      \"column\": \"BloodPressure\",\n      \"properties\": {\n        \"dtype\": \"number\",\n        \"std\": 19,\n        \"min\": 0,\n        \"max\": 122,\n        \"num_unique_values\": 47,\n        \"samples\": [\n          86,\n          46,\n          85\n        ],\n        \"semantic_type\": \"\",\n        \"description\": \"\"\n      }\n    },\n    {\n      \"column\": \"SkinThickness\",\n      \"properties\": {\n        \"dtype\": \"number\",\n        \"std\": 15,\n        \"min\": 0,\n        \"max\": 99,\n        \"num_unique_values\": 51,\n        \"samples\": [\n          7,\n          12,\n          48\n        ],\n        \"semantic_type\": \"\",\n        \"description\": \"\"\n      }\n    },\n    {\n      \"column\": \"Insulin\",\n      \"properties\": {\n        \"dtype\": \"number\",\n        \"std\": 115,\n        \"min\": 0,\n        \"max\": 846,\n        \"num_unique_values\": 186,\n        \"samples\": [\n          52,\n          41,\n          183\n        ],\n        \"semantic_type\": \"\",\n        \"description\": \"\"\n      }\n    },\n    {\n      \"column\": \"BMI\",\n      \"properties\": {\n        \"dtype\": \"number\",\n        \"std\": 7.884160320375446,\n        \"min\": 0.0,\n        \"max\": 67.1,\n        \"num_unique_values\": 248,\n        \"samples\": [\n          19.9,\n          31.0,\n          38.1\n        ],\n        \"semantic_type\": \"\",\n        \"description\": \"\"\n      }\n    },\n    {\n      \"column\": \"DiabetesPedigreeFunction\",\n      \"properties\": {\n        \"dtype\": \"number\",\n        \"std\": 0.3313285950127749,\n        \"min\": 0.078,\n        \"max\": 2.42,\n        \"num_unique_values\": 517,\n        \"samples\": [\n          1.731,\n          0.426,\n          0.138\n        ],\n        \"semantic_type\": \"\",\n        \"description\": \"\"\n      }\n    },\n    {\n      \"column\": \"Age\",\n      \"properties\": {\n        \"dtype\": \"number\",\n        \"std\": 11,\n        \"min\": 21,\n        \"max\": 81,\n        \"num_unique_values\": 52,\n        \"samples\": [\n          60,\n          47,\n          72\n        ],\n        \"semantic_type\": \"\",\n        \"description\": \"\"\n      }\n    },\n    {\n      \"column\": \"Outcome\",\n      \"properties\": {\n        \"dtype\": \"number\",\n        \"std\": 0,\n        \"min\": 0,\n        \"max\": 1,\n        \"num_unique_values\": 2,\n        \"samples\": [\n          0,\n          1\n        ],\n        \"semantic_type\": \"\",\n        \"description\": \"\"\n      }\n    }\n  ]\n}"
            }
          },
          "metadata": {},
          "execution_count": 3
        }
      ],
      "source": [
        "dataset.head()"
      ],
      "id": "MIZQml8u58WZ"
    },
    {
      "cell_type": "code",
      "execution_count": null,
      "metadata": {
        "colab": {
          "base_uri": "https://localhost:8080/"
        },
        "id": "YamjgnA958Wa",
        "outputId": "adf2dd9f-53a7-4d55-dcf5-b33f148289af"
      },
      "outputs": [
        {
          "output_type": "execute_result",
          "data": {
            "text/plain": [
              "(768, 9)"
            ]
          },
          "metadata": {},
          "execution_count": 4
        }
      ],
      "source": [
        "dataset.shape"
      ],
      "id": "YamjgnA958Wa"
    },
    {
      "cell_type": "code",
      "execution_count": null,
      "metadata": {
        "colab": {
          "base_uri": "https://localhost:8080/",
          "height": 606
        },
        "id": "PUbFZZqx58Wa",
        "outputId": "5fe10ff2-2e34-499c-b6a0-f44b814d8816"
      },
      "outputs": [
        {
          "output_type": "display_data",
          "data": {
            "text/plain": [
              "<Figure size 640x480 with 2 Axes>"
            ],
            "image/png": "[encoded data removed]"
          },
          "metadata": {}
        }
      ],
      "source": [
        "corr = dataset.corr()\n",
        "fig = plt.figure()\n",
        "ax = fig.add_subplot(111)\n",
        "cax = ax.matshow(corr,cmap='coolwarm', vmin=-1, vmax=1)\n",
        "fig.colorbar(cax)\n",
        "ticks = np.arange(0,len(dataset.columns),1)\n",
        "ax.set_xticks(ticks)\n",
        "plt.xticks(rotation=90)\n",
        "ax.set_yticks(ticks)\n",
        "ax.set_xticklabels(dataset.columns)\n",
        "ax.set_yticklabels(dataset.columns)\n",
        "plt.show()"
      ],
      "id": "PUbFZZqx58Wa"
    },
    {
      "cell_type": "code",
      "execution_count": null,
      "metadata": {
        "colab": {
          "base_uri": "https://localhost:8080/"
        },
        "id": "DdfdXrUK58Wa",
        "outputId": "3e69787d-aede-4fe6-eb6b-44c0aba7502d"
      },
      "outputs": [
        {
          "output_type": "stream",
          "name": "stdout",
          "text": [
            "<class 'pandas.core.frame.DataFrame'>\n",
            "RangeIndex: 768 entries, 0 to 767\n",
            "Data columns (total 9 columns):\n",
            " #   Column                    Non-Null Count  Dtype  \n",
            "---  ------                    --------------  -----  \n",
            " 0   Pregnancies               768 non-null    int64  \n",
            " 1   Glucose                   768 non-null    int64  \n",
            " 2   BloodPressure             768 non-null    int64  \n",
            " 3   SkinThickness             768 non-null    int64  \n",
            " 4   Insulin                   768 non-null    int64  \n",
            " 5   BMI                       768 non-null    float64\n",
            " 6   DiabetesPedigreeFunction  768 non-null    float64\n",
            " 7   Age                       768 non-null    int64  \n",
            " 8   Outcome                   768 non-null    int64  \n",
            "dtypes: float64(2), int64(7)\n",
            "memory usage: 54.1 KB\n"
          ]
        }
      ],
      "source": [
        "dataset.info()"
      ],
      "id": "DdfdXrUK58Wa"
    },
    {
      "cell_type": "code",
      "execution_count": null,
      "metadata": {
        "colab": {
          "base_uri": "https://localhost:8080/"
        },
        "id": "7qBr-uLQ58Wa",
        "outputId": "8c2ec6dd-2795-4196-b8f7-2ce4f82d15d0"
      },
      "outputs": [
        {
          "output_type": "execute_result",
          "data": {
            "text/plain": [
              "Pregnancies                 0\n",
              "Glucose                     0\n",
              "BloodPressure               0\n",
              "SkinThickness               0\n",
              "Insulin                     0\n",
              "BMI                         0\n",
              "DiabetesPedigreeFunction    0\n",
              "Age                         0\n",
              "Outcome                     0\n",
              "dtype: int64"
            ]
          },
          "metadata": {},
          "execution_count": 7
        }
      ],
      "source": [
        "dataset.isnull().sum()"
      ],
      "id": "7qBr-uLQ58Wa"
    },
    {
      "cell_type": "code",
      "execution_count": null,
      "metadata": {
        "colab": {
          "base_uri": "https://localhost:8080/",
          "height": 331
        },
        "id": "YvV6wZq558Wa",
        "outputId": "7c8976e2-25e8-4021-aeaf-abb77a702a39"
      },
      "outputs": [
        {
          "output_type": "execute_result",
          "data": {
            "text/plain": [
              "                          count        mean         std     min       25%  \\\n",
              "Pregnancies               768.0    3.845052    3.369578   0.000   1.00000   \n",
              "Glucose                   768.0  120.894531   31.972618   0.000  99.00000   \n",
              "BloodPressure             768.0   69.105469   19.355807   0.000  62.00000   \n",
              "SkinThickness             768.0   20.536458   15.952218   0.000   0.00000   \n",
              "Insulin                   768.0   79.799479  115.244002   0.000   0.00000   \n",
              "BMI                       768.0   31.992578    7.884160   0.000  27.30000   \n",
              "DiabetesPedigreeFunction  768.0    0.471876    0.331329   0.078   0.24375   \n",
              "Age                       768.0   33.240885   11.760232  21.000  24.00000   \n",
              "Outcome                   768.0    0.348958    0.476951   0.000   0.00000   \n",
              "\n",
              "                               50%        75%     max  \n",
              "Pregnancies                 3.0000    6.00000   17.00  \n",
              "Glucose                   117.0000  140.25000  199.00  \n",
              "BloodPressure              72.0000   80.00000  122.00  \n",
              "SkinThickness              23.0000   32.00000   99.00  \n",
              "Insulin                    30.5000  127.25000  846.00  \n",
              "BMI                        32.0000   36.60000   67.10  \n",
              "DiabetesPedigreeFunction    0.3725    0.62625    2.42  \n",
              "Age                        29.0000   41.00000   81.00  \n",
              "Outcome                     0.0000    1.00000    1.00  "
            ],
            "text/html": [
              "\n",
              "  <div id=\"df-91219432-3aad-44e8-960c-a9f0cfd0ba95\" class=\"colab-df-container\">\n",
              "    <div>\n",
              "<style scoped>\n",
              "    .dataframe tbody tr th:only-of-type {\n",
              "        vertical-align: middle;\n",
              "    }\n",
              "\n",
              "    .dataframe tbody tr th {\n",
              "        vertical-align: top;\n",
              "    }\n",
              "\n",
              "    .dataframe thead th {\n",
              "        text-align: right;\n",
              "    }\n",
              "</style>\n",
              "<table border=\"1\" class=\"dataframe\">\n",
              "  <thead>\n",
              "    <tr style=\"text-align: right;\">\n",
              "      <th></th>\n",
              "      <th>count</th>\n",
              "      <th>mean</th>\n",
              "      <th>std</th>\n",
              "      <th>min</th>\n",
              "      <th>25%</th>\n",
              "      <th>50%</th>\n",
              "      <th>75%</th>\n",
              "      <th>max</th>\n",
              "    </tr>\n",
              "  </thead>\n",
              "  <tbody>\n",
              "    <tr>\n",
              "      <th>Pregnancies</th>\n",
              "      <td>768.0</td>\n",
              "      <td>3.845052</td>\n",
              "      <td>3.369578</td>\n",
              "      <td>0.000</td>\n",
              "      <td>1.00000</td>\n",
              "      <td>3.0000</td>\n",
              "      <td>6.00000</td>\n",
              "      <td>17.00</td>\n",
              "    </tr>\n",
              "    <tr>\n",
              "      <th>Glucose</th>\n",
              "      <td>768.0</td>\n",
              "      <td>120.894531</td>\n",
              "      <td>31.972618</td>\n",
              "      <td>0.000</td>\n",
              "      <td>99.00000</td>\n",
              "      <td>117.0000</td>\n",
              "      <td>140.25000</td>\n",
              "      <td>199.00</td>\n",
              "    </tr>\n",
              "    <tr>\n",
              "      <th>BloodPressure</th>\n",
              "      <td>768.0</td>\n",
              "      <td>69.105469</td>\n",
              "      <td>19.355807</td>\n",
              "      <td>0.000</td>\n",
              "      <td>62.00000</td>\n",
              "      <td>72.0000</td>\n",
              "      <td>80.00000</td>\n",
              "      <td>122.00</td>\n",
              "    </tr>\n",
              "    <tr>\n",
              "      <th>SkinThickness</th>\n",
              "      <td>768.0</td>\n",
              "      <td>20.536458</td>\n",
              "      <td>15.952218</td>\n",
              "      <td>0.000</td>\n",
              "      <td>0.00000</td>\n",
              "      <td>23.0000</td>\n",
              "      <td>32.00000</td>\n",
              "      <td>99.00</td>\n",
              "    </tr>\n",
              "    <tr>\n",
              "      <th>Insulin</th>\n",
              "      <td>768.0</td>\n",
              "      <td>79.799479</td>\n",
              "      <td>115.244002</td>\n",
              "      <td>0.000</td>\n",
              "      <td>0.00000</td>\n",
              "      <td>30.5000</td>\n",
              "      <td>127.25000</td>\n",
              "      <td>846.00</td>\n",
              "    </tr>\n",
              "    <tr>\n",
              "      <th>BMI</th>\n",
              "      <td>768.0</td>\n",
              "      <td>31.992578</td>\n",
              "      <td>7.884160</td>\n",
              "      <td>0.000</td>\n",
              "      <td>27.30000</td>\n",
              "      <td>32.0000</td>\n",
              "      <td>36.60000</td>\n",
              "      <td>67.10</td>\n",
              "    </tr>\n",
              "    <tr>\n",
              "      <th>DiabetesPedigreeFunction</th>\n",
              "      <td>768.0</td>\n",
              "      <td>0.471876</td>\n",
              "      <td>0.331329</td>\n",
              "      <td>0.078</td>\n",
              "      <td>0.24375</td>\n",
              "      <td>0.3725</td>\n",
              "      <td>0.62625</td>\n",
              "      <td>2.42</td>\n",
              "    </tr>\n",
              "    <tr>\n",
              "      <th>Age</th>\n",
              "      <td>768.0</td>\n",
              "      <td>33.240885</td>\n",
              "      <td>11.760232</td>\n",
              "      <td>21.000</td>\n",
              "      <td>24.00000</td>\n",
              "      <td>29.0000</td>\n",
              "      <td>41.00000</td>\n",
              "      <td>81.00</td>\n",
              "    </tr>\n",
              "    <tr>\n",
              "      <th>Outcome</th>\n",
              "      <td>768.0</td>\n",
              "      <td>0.348958</td>\n",
              "      <td>0.476951</td>\n",
              "      <td>0.000</td>\n",
              "      <td>0.00000</td>\n",
              "      <td>0.0000</td>\n",
              "      <td>1.00000</td>\n",
              "      <td>1.00</td>\n",
              "    </tr>\n",
              "  </tbody>\n",
              "</table>\n",
              "</div>\n",
              "    <div class=\"colab-df-buttons\">\n",
              "\n",
              "  <div class=\"colab-df-container\">\n",
              "    <button class=\"colab-df-convert\" onclick=\"convertToInteractive('df-91219432-3aad-44e8-960c-a9f0cfd0ba95')\"\n",
              "            title=\"Convert this dataframe to an interactive table.\"\n",
              "            style=\"display:none;\">\n",
              "\n",
              "  <svg xmlns=\"http://www.w3.org/2000/svg\" height=\"24px\" viewBox=\"0 -960 960 960\">\n",
              "    <path d=\"M120-120v-720h720v720H120Zm60-500h600v-160H180v160Zm220 220h160v-160H400v160Zm0 220h160v-160H400v160ZM180-400h160v-160H180v160Zm440 0h160v-160H620v160ZM180-180h160v-160H180v160Zm440 0h160v-160H620v160Z\"/>\n",
              "  </svg>\n",
              "    </button>\n",
              "\n",
              "  <style>\n",
              "    .colab-df-container {\n",
              "      display:flex;\n",
              "      gap: 12px;\n",
              "    }\n",
              "\n",
              "    .colab-df-convert {\n",
              "      background-color: #E8F0FE;\n",
              "      border: none;\n",
              "      border-radius: 50%;\n",
              "      cursor: pointer;\n",
              "      display: none;\n",
              "      fill: #1967D2;\n",
              "      height: 32px;\n",
              "      padding: 0 0 0 0;\n",
              "      width: 32px;\n",
              "    }\n",
              "\n",
              "    .colab-df-convert:hover {\n",
              "      background-color: #E2EBFA;\n",
              "      box-shadow: 0px 1px 2px rgba(60, 64, 67, 0.3), 0px 1px 3px 1px rgba(60, 64, 67, 0.15);\n",
              "      fill: #174EA6;\n",
              "    }\n",
              "\n",
              "    .colab-df-buttons div {\n",
              "      margin-bottom: 4px;\n",
              "    }\n",
              "\n",
              "    [theme=dark] .colab-df-convert {\n",
              "      background-color: #3B4455;\n",
              "      fill: #D2E3FC;\n",
              "    }\n",
              "\n",
              "    [theme=dark] .colab-df-convert:hover {\n",
              "      background-color: #434B5C;\n",
              "      box-shadow: 0px 1px 3px 1px rgba(0, 0, 0, 0.15);\n",
              "      filter: drop-shadow(0px 1px 2px rgba(0, 0, 0, 0.3));\n",
              "      fill: #FFFFFF;\n",
              "    }\n",
              "  </style>\n",
              "\n",
              "    <script>\n",
              "      const buttonEl =\n",
              "        document.querySelector('#df-91219432-3aad-44e8-960c-a9f0cfd0ba95 button.colab-df-convert');\n",
              "      buttonEl.style.display =\n",
              "        google.colab.kernel.accessAllowed ? 'block' : 'none';\n",
              "\n",
              "      async function convertToInteractive(key) {\n",
              "        const element = document.querySelector('#df-91219432-3aad-44e8-960c-a9f0cfd0ba95');\n",
              "        const dataTable =\n",
              "          await google.colab.kernel.invokeFunction('convertToInteractive',\n",
              "                                                    [key], {});\n",
              "        if (!dataTable) return;\n",
              "\n",
              "        const docLinkHtml = 'Like what you see? Visit the ' +\n",
              "          '<a target=\"_blank\" href=https://colab.research.google.com/notebooks/data_table.ipynb>data table notebook</a>'\n",
              "          + ' to learn more about interactive tables.';\n",
              "        element.innerHTML = '';\n",
              "        dataTable['output_type'] = 'display_data';\n",
              "        await google.colab.output.renderOutput(dataTable, element);\n",
              "        const docLink = document.createElement('div');\n",
              "        docLink.innerHTML = docLinkHtml;\n",
              "        element.appendChild(docLink);\n",
              "      }\n",
              "    </script>\n",
              "  </div>\n",
              "\n",
              "\n",
              "<div id=\"df-d08306ad-f882-45b5-ad67-c0954d6df3c9\">\n",
              "  <button class=\"colab-df-quickchart\" onclick=\"quickchart('df-d08306ad-f882-45b5-ad67-c0954d6df3c9')\"\n",
              "            title=\"Suggest charts\"\n",
              "            style=\"display:none;\">\n",
              "\n",
              "<svg xmlns=\"http://www.w3.org/2000/svg\" height=\"24px\"viewBox=\"0 0 24 24\"\n",
              "     width=\"24px\">\n",
              "    <g>\n",
              "        <path d=\"M19 3H5c-1.1 0-2 .9-2 2v14c0 1.1.9 2 2 2h14c1.1 0 2-.9 2-2V5c0-1.1-.9-2-2-2zM9 17H7v-7h2v7zm4 0h-2V7h2v10zm4 0h-2v-4h2v4z\"/>\n",
              "    </g>\n",
              "</svg>\n",
              "  </button>\n",
              "\n",
              "<style>\n",
              "  .colab-df-quickchart {\n",
              "      --bg-color: #E8F0FE;\n",
              "      --fill-color: #1967D2;\n",
              "      --hover-bg-color: #E2EBFA;\n",
              "      --hover-fill-color: #174EA6;\n",
              "      --disabled-fill-color: #AAA;\n",
              "      --disabled-bg-color: #DDD;\n",
              "  }\n",
              "\n",
              "  [theme=dark] .colab-df-quickchart {\n",
              "      --bg-color: #3B4455;\n",
              "      --fill-color: #D2E3FC;\n",
              "      --hover-bg-color: #434B5C;\n",
              "      --hover-fill-color: #FFFFFF;\n",
              "      --disabled-bg-color: #3B4455;\n",
              "      --disabled-fill-color: #666;\n",
              "  }\n",
              "\n",
              "  .colab-df-quickchart {\n",
              "    background-color: var(--bg-color);\n",
              "    border: none;\n",
              "    border-radius: 50%;\n",
              "    cursor: pointer;\n",
              "    display: none;\n",
              "    fill: var(--fill-color);\n",
              "    height: 32px;\n",
              "    padding: 0;\n",
              "    width: 32px;\n",
              "  }\n",
              "\n",
              "  .colab-df-quickchart:hover {\n",
              "    background-color: var(--hover-bg-color);\n",
              "    box-shadow: 0 1px 2px rgba(60, 64, 67, 0.3), 0 1px 3px 1px rgba(60, 64, 67, 0.15);\n",
              "    fill: var(--button-hover-fill-color);\n",
              "  }\n",
              "\n",
              "  .colab-df-quickchart-complete:disabled,\n",
              "  .colab-df-quickchart-complete:disabled:hover {\n",
              "    background-color: var(--disabled-bg-color);\n",
              "    fill: var(--disabled-fill-color);\n",
              "    box-shadow: none;\n",
              "  }\n",
              "\n",
              "  .colab-df-spinner {\n",
              "    border: 2px solid var(--fill-color);\n",
              "    border-color: transparent;\n",
              "    border-bottom-color: var(--fill-color);\n",
              "    animation:\n",
              "      spin 1s steps(1) infinite;\n",
              "  }\n",
              "\n",
              "  @keyframes spin {\n",
              "    0% {\n",
              "      border-color: transparent;\n",
              "      border-bottom-color: var(--fill-color);\n",
              "      border-left-color: var(--fill-color);\n",
              "    }\n",
              "    20% {\n",
              "      border-color: transparent;\n",
              "      border-left-color: var(--fill-color);\n",
              "      border-top-color: var(--fill-color);\n",
              "    }\n",
              "    30% {\n",
              "      border-color: transparent;\n",
              "      border-left-color: var(--fill-color);\n",
              "      border-top-color: var(--fill-color);\n",
              "      border-right-color: var(--fill-color);\n",
              "    }\n",
              "    40% {\n",
              "      border-color: transparent;\n",
              "      border-right-color: var(--fill-color);\n",
              "      border-top-color: var(--fill-color);\n",
              "    }\n",
              "    60% {\n",
              "      border-color: transparent;\n",
              "      border-right-color: var(--fill-color);\n",
              "    }\n",
              "    80% {\n",
              "      border-color: transparent;\n",
              "      border-right-color: var(--fill-color);\n",
              "      border-bottom-color: var(--fill-color);\n",
              "    }\n",
              "    90% {\n",
              "      border-color: transparent;\n",
              "      border-bottom-color: var(--fill-color);\n",
              "    }\n",
              "  }\n",
              "</style>\n",
              "\n",
              "  <script>\n",
              "    async function quickchart(key) {\n",
              "      const quickchartButtonEl =\n",
              "        document.querySelector('#' + key + ' button');\n",
              "      quickchartButtonEl.disabled = true;  // To prevent multiple clicks.\n",
              "      quickchartButtonEl.classList.add('colab-df-spinner');\n",
              "      try {\n",
              "        const charts = await google.colab.kernel.invokeFunction(\n",
              "            'suggestCharts', [key], {});\n",
              "      } catch (error) {\n",
              "        console.error('Error during call to suggestCharts:', error);\n",
              "      }\n",
              "      quickchartButtonEl.classList.remove('colab-df-spinner');\n",
              "      quickchartButtonEl.classList.add('colab-df-quickchart-complete');\n",
              "    }\n",
              "    (() => {\n",
              "      let quickchartButtonEl =\n",
              "        document.querySelector('#df-d08306ad-f882-45b5-ad67-c0954d6df3c9 button');\n",
              "      quickchartButtonEl.style.display =\n",
              "        google.colab.kernel.accessAllowed ? 'block' : 'none';\n",
              "    })();\n",
              "  </script>\n",
              "</div>\n",
              "\n",
              "    </div>\n",
              "  </div>\n"
            ],
            "application/vnd.google.colaboratory.intrinsic+json": {
              "type": "dataframe",
              "summary": "{\n  \"name\": \"dataset\",\n  \"rows\": 9,\n  \"fields\": [\n    {\n      \"column\": \"count\",\n      \"properties\": {\n        \"dtype\": \"number\",\n        \"std\": 0.0,\n        \"min\": 768.0,\n        \"max\": 768.0,\n        \"num_unique_values\": 1,\n        \"samples\": [\n          768.0\n        ],\n        \"semantic_type\": \"\",\n        \"description\": \"\"\n      }\n    },\n    {\n      \"column\": \"mean\",\n      \"properties\": {\n        \"dtype\": \"number\",\n        \"std\": 41.69163241067674,\n        \"min\": 0.3489583333333333,\n        \"max\": 120.89453125,\n        \"num_unique_values\": 9,\n        \"samples\": [\n          33.240885416666664\n        ],\n        \"semantic_type\": \"\",\n        \"description\": \"\"\n      }\n    },\n    {\n      \"column\": \"std\",\n      \"properties\": {\n        \"dtype\": \"number\",\n        \"std\": 36.0792507611304,\n        \"min\": 0.3313285950127749,\n        \"max\": 115.24400235133817,\n        \"num_unique_values\": 9,\n        \"samples\": [\n          11.760231540678685\n        ],\n        \"semantic_type\": \"\",\n        \"description\": \"\"\n      }\n    },\n    {\n      \"column\": \"min\",\n      \"properties\": {\n        \"dtype\": \"number\",\n        \"std\": 6.996797553166735,\n        \"min\": 0.0,\n        \"max\": 21.0,\n        \"num_unique_values\": 3,\n        \"samples\": [\n          0.0\n        ],\n        \"semantic_type\": \"\",\n        \"description\": \"\"\n      }\n    },\n    {\n      \"column\": \"25%\",\n      \"properties\": {\n        \"dtype\": \"number\",\n        \"std\": 35.17914698813063,\n        \"min\": 0.0,\n        \"max\": 99.0,\n        \"num_unique_values\": 7,\n        \"samples\": [\n          1.0\n        ],\n        \"semantic_type\": \"\",\n        \"description\": \"\"\n      }\n    },\n    {\n      \"column\": \"50%\",\n      \"properties\": {\n        \"dtype\": \"number\",\n        \"std\": 38.3128147168513,\n        \"min\": 0.0,\n        \"max\": 117.0,\n        \"num_unique_values\": 9,\n        \"samples\": [\n          29.0\n        ],\n        \"semantic_type\": \"\",\n        \"description\": \"\"\n      }\n    },\n    {\n      \"column\": \"75%\",\n      \"properties\": {\n        \"dtype\": \"number\",\n        \"std\": 52.85340145451851,\n        \"min\": 0.62625,\n        \"max\": 140.25,\n        \"num_unique_values\": 9,\n        \"samples\": [\n          41.0\n        ],\n        \"semantic_type\": \"\",\n        \"description\": \"\"\n      }\n    },\n    {\n      \"column\": \"max\",\n      \"properties\": {\n        \"dtype\": \"number\",\n        \"std\": 265.214896284336,\n        \"min\": 1.0,\n        \"max\": 846.0,\n        \"num_unique_values\": 9,\n        \"samples\": [\n          81.0\n        ],\n        \"semantic_type\": \"\",\n        \"description\": \"\"\n      }\n    }\n  ]\n}"
            }
          },
          "metadata": {},
          "execution_count": 8
        }
      ],
      "source": [
        "dataset.describe().T"
      ],
      "id": "YvV6wZq558Wa"
    },
    {
      "cell_type": "markdown",
      "metadata": {
        "id": "lpF5pfs858Wb"
      },
      "source": [
        "# Features"
      ],
      "id": "lpF5pfs858Wb"
    },
    {
      "cell_type": "code",
      "execution_count": null,
      "metadata": {
        "colab": {
          "base_uri": "https://localhost:8080/",
          "height": 466
        },
        "id": "NVxi6jvI58Wb",
        "outputId": "6c6537e4-83e5-40dd-e7f3-4753dcb31acb"
      },
      "outputs": [
        {
          "output_type": "execute_result",
          "data": {
            "text/plain": [
              "<Axes: xlabel='Outcome', ylabel='count'>"
            ]
          },
          "metadata": {},
          "execution_count": 9
        },
        {
          "output_type": "display_data",
          "data": {
            "text/plain": [
              "<Figure size 640x480 with 1 Axes>"
            ],
            "image/png": "[encoded data removed]"
          },
          "metadata": {}
        }
      ],
      "source": [
        "sns.countplot(x = 'Outcome',data = dataset)"
      ],
      "id": "NVxi6jvI58Wb"
    },
    {
      "cell_type": "code",
      "source": [
        "pip install itertools"
      ],
      "metadata": {
        "id": "R9Ne_CuS6cd2",
        "outputId": "dddfc41e-d1f6-4a41-dced-209ec979be35",
        "colab": {
          "base_uri": "https://localhost:8080/"
        }
      },
      "id": "R9Ne_CuS6cd2",
      "execution_count": null,
      "outputs": [
        {
          "output_type": "stream",
          "name": "stdout",
          "text": [
            "\u001b[31mERROR: Could not find a version that satisfies the requirement itertools (from versions: none)\u001b[0m\u001b[31m\n",
            "\u001b[0m\u001b[31mERROR: No matching distribution found for itertools\u001b[0m\u001b[31m\n",
            "\u001b[0m"
          ]
        }
      ]
    },
    {
      "cell_type": "code",
      "execution_count": null,
      "metadata": {
        "colab": {
          "base_uri": "https://localhost:8080/",
          "height": 1000
        },
        "id": "XJErW5bV58Wb",
        "outputId": "299cf7de-8186-464c-b39c-9355d7c8ca7b"
      },
      "outputs": [
        {
          "output_type": "error",
          "ename": "ValueError",
          "evalue": "Number of rows must be a positive integer, not 4.0",
          "traceback": [
            "\u001b[0;31m---------------------------------------------------------------------------\u001b[0m",
            "\u001b[0;31mValueError\u001b[0m                                Traceback (most recent call last)",
            "\u001b[0;32m<ipython-input-10-c8b3e0c8649b>\u001b[0m in \u001b[0;36m<cell line: 7>\u001b[0;34m()\u001b[0m\n\u001b[1;32m      6\u001b[0m \u001b[0;34m\u001b[0m\u001b[0m\n\u001b[1;32m      7\u001b[0m \u001b[0;32mfor\u001b[0m \u001b[0mi\u001b[0m\u001b[0;34m,\u001b[0m \u001b[0mj\u001b[0m \u001b[0;32min\u001b[0m \u001b[0mitertools\u001b[0m\u001b[0;34m.\u001b[0m\u001b[0mzip_longest\u001b[0m\u001b[0;34m(\u001b[0m\u001b[0mcol\u001b[0m\u001b[0;34m,\u001b[0m \u001b[0mrange\u001b[0m\u001b[0;34m(\u001b[0m\u001b[0mlength\u001b[0m\u001b[0;34m)\u001b[0m\u001b[0;34m)\u001b[0m\u001b[0;34m:\u001b[0m\u001b[0;34m\u001b[0m\u001b[0;34m\u001b[0m\u001b[0m\n\u001b[0;32m----> 8\u001b[0;31m     \u001b[0mplt\u001b[0m\u001b[0;34m.\u001b[0m\u001b[0msubplot\u001b[0m\u001b[0;34m(\u001b[0m\u001b[0;34m(\u001b[0m\u001b[0mlength\u001b[0m\u001b[0;34m/\u001b[0m\u001b[0;36m2\u001b[0m\u001b[0;34m)\u001b[0m\u001b[0;34m,\u001b[0m \u001b[0;36m3\u001b[0m\u001b[0;34m,\u001b[0m \u001b[0mj\u001b[0m \u001b[0;34m+\u001b[0m \u001b[0;36m1\u001b[0m\u001b[0;34m)\u001b[0m\u001b[0;34m\u001b[0m\u001b[0;34m\u001b[0m\u001b[0m\n\u001b[0m\u001b[1;32m      9\u001b[0m     \u001b[0mplt\u001b[0m\u001b[0;34m.\u001b[0m\u001b[0msubplots_adjust\u001b[0m\u001b[0;34m(\u001b[0m\u001b[0mwspace\u001b[0m \u001b[0;34m=\u001b[0m \u001b[0;36m0.1\u001b[0m\u001b[0;34m,\u001b[0m\u001b[0mhspace\u001b[0m \u001b[0;34m=\u001b[0m \u001b[0;36m0.5\u001b[0m\u001b[0;34m)\u001b[0m\u001b[0;34m\u001b[0m\u001b[0;34m\u001b[0m\u001b[0m\n\u001b[1;32m     10\u001b[0m     \u001b[0mdataset\u001b[0m\u001b[0;34m[\u001b[0m\u001b[0mi\u001b[0m\u001b[0;34m]\u001b[0m\u001b[0;34m.\u001b[0m\u001b[0mhist\u001b[0m\u001b[0;34m(\u001b[0m\u001b[0mbins\u001b[0m \u001b[0;34m=\u001b[0m \u001b[0;36m20\u001b[0m\u001b[0;34m)\u001b[0m\u001b[0;34m\u001b[0m\u001b[0;34m\u001b[0m\u001b[0m\n",
            "\u001b[0;32m/usr/local/lib/python3.10/dist-packages/matplotlib/pyplot.py\u001b[0m in \u001b[0;36msubplot\u001b[0;34m(*args, **kwargs)\u001b[0m\n\u001b[1;32m   1321\u001b[0m \u001b[0;34m\u001b[0m\u001b[0m\n\u001b[1;32m   1322\u001b[0m     \u001b[0;31m# First, search for an existing subplot with a matching spec.\u001b[0m\u001b[0;34m\u001b[0m\u001b[0;34m\u001b[0m\u001b[0m\n\u001b[0;32m-> 1323\u001b[0;31m     \u001b[0mkey\u001b[0m \u001b[0;34m=\u001b[0m \u001b[0mSubplotSpec\u001b[0m\u001b[0;34m.\u001b[0m\u001b[0m_from_subplot_args\u001b[0m\u001b[0;34m(\u001b[0m\u001b[0mfig\u001b[0m\u001b[0;34m,\u001b[0m \u001b[0margs\u001b[0m\u001b[0;34m)\u001b[0m\u001b[0;34m\u001b[0m\u001b[0;34m\u001b[0m\u001b[0m\n\u001b[0m\u001b[1;32m   1324\u001b[0m \u001b[0;34m\u001b[0m\u001b[0m\n\u001b[1;32m   1325\u001b[0m     \u001b[0;32mfor\u001b[0m \u001b[0max\u001b[0m \u001b[0;32min\u001b[0m \u001b[0mfig\u001b[0m\u001b[0;34m.\u001b[0m\u001b[0maxes\u001b[0m\u001b[0;34m:\u001b[0m\u001b[0;34m\u001b[0m\u001b[0;34m\u001b[0m\u001b[0m\n",
            "\u001b[0;32m/usr/local/lib/python3.10/dist-packages/matplotlib/gridspec.py\u001b[0m in \u001b[0;36m_from_subplot_args\u001b[0;34m(figure, args)\u001b[0m\n\u001b[1;32m    585\u001b[0m             \u001b[0;32mraise\u001b[0m \u001b[0m_api\u001b[0m\u001b[0;34m.\u001b[0m\u001b[0mnargs_error\u001b[0m\u001b[0;34m(\u001b[0m\u001b[0;34m\"subplot\"\u001b[0m\u001b[0;34m,\u001b[0m \u001b[0mtakes\u001b[0m\u001b[0;34m=\u001b[0m\u001b[0;34m\"1 or 3\"\u001b[0m\u001b[0;34m,\u001b[0m \u001b[0mgiven\u001b[0m\u001b[0;34m=\u001b[0m\u001b[0mlen\u001b[0m\u001b[0;34m(\u001b[0m\u001b[0margs\u001b[0m\u001b[0;34m)\u001b[0m\u001b[0;34m)\u001b[0m\u001b[0;34m\u001b[0m\u001b[0;34m\u001b[0m\u001b[0m\n\u001b[1;32m    586\u001b[0m \u001b[0;34m\u001b[0m\u001b[0m\n\u001b[0;32m--> 587\u001b[0;31m         \u001b[0mgs\u001b[0m \u001b[0;34m=\u001b[0m \u001b[0mGridSpec\u001b[0m\u001b[0;34m.\u001b[0m\u001b[0m_check_gridspec_exists\u001b[0m\u001b[0;34m(\u001b[0m\u001b[0mfigure\u001b[0m\u001b[0;34m,\u001b[0m \u001b[0mrows\u001b[0m\u001b[0;34m,\u001b[0m \u001b[0mcols\u001b[0m\u001b[0;34m)\u001b[0m\u001b[0;34m\u001b[0m\u001b[0;34m\u001b[0m\u001b[0m\n\u001b[0m\u001b[1;32m    588\u001b[0m         \u001b[0;32mif\u001b[0m \u001b[0mgs\u001b[0m \u001b[0;32mis\u001b[0m \u001b[0;32mNone\u001b[0m\u001b[0;34m:\u001b[0m\u001b[0;34m\u001b[0m\u001b[0;34m\u001b[0m\u001b[0m\n\u001b[1;32m    589\u001b[0m             \u001b[0mgs\u001b[0m \u001b[0;34m=\u001b[0m \u001b[0mGridSpec\u001b[0m\u001b[0;34m(\u001b[0m\u001b[0mrows\u001b[0m\u001b[0;34m,\u001b[0m \u001b[0mcols\u001b[0m\u001b[0;34m,\u001b[0m \u001b[0mfigure\u001b[0m\u001b[0;34m=\u001b[0m\u001b[0mfigure\u001b[0m\u001b[0;34m)\u001b[0m\u001b[0;34m\u001b[0m\u001b[0;34m\u001b[0m\u001b[0m\n",
            "\u001b[0;32m/usr/local/lib/python3.10/dist-packages/matplotlib/gridspec.py\u001b[0m in \u001b[0;36m_check_gridspec_exists\u001b[0;34m(figure, nrows, ncols)\u001b[0m\n\u001b[1;32m    224\u001b[0m                     \u001b[0;32mreturn\u001b[0m \u001b[0mgs\u001b[0m\u001b[0;34m\u001b[0m\u001b[0;34m\u001b[0m\u001b[0m\n\u001b[1;32m    225\u001b[0m         \u001b[0;31m# else gridspec not found:\u001b[0m\u001b[0;34m\u001b[0m\u001b[0;34m\u001b[0m\u001b[0m\n\u001b[0;32m--> 226\u001b[0;31m         \u001b[0;32mreturn\u001b[0m \u001b[0mGridSpec\u001b[0m\u001b[0;34m(\u001b[0m\u001b[0mnrows\u001b[0m\u001b[0;34m,\u001b[0m \u001b[0mncols\u001b[0m\u001b[0;34m,\u001b[0m \u001b[0mfigure\u001b[0m\u001b[0;34m=\u001b[0m\u001b[0mfigure\u001b[0m\u001b[0;34m)\u001b[0m\u001b[0;34m\u001b[0m\u001b[0;34m\u001b[0m\u001b[0m\n\u001b[0m\u001b[1;32m    227\u001b[0m \u001b[0;34m\u001b[0m\u001b[0m\n\u001b[1;32m    228\u001b[0m     \u001b[0;32mdef\u001b[0m \u001b[0m__getitem__\u001b[0m\u001b[0;34m(\u001b[0m\u001b[0mself\u001b[0m\u001b[0;34m,\u001b[0m \u001b[0mkey\u001b[0m\u001b[0;34m)\u001b[0m\u001b[0;34m:\u001b[0m\u001b[0;34m\u001b[0m\u001b[0;34m\u001b[0m\u001b[0m\n",
            "\u001b[0;32m/usr/local/lib/python3.10/dist-packages/matplotlib/gridspec.py\u001b[0m in \u001b[0;36m__init__\u001b[0;34m(self, nrows, ncols, figure, left, bottom, right, top, wspace, hspace, width_ratios, height_ratios)\u001b[0m\n\u001b[1;32m    377\u001b[0m         \u001b[0mself\u001b[0m\u001b[0;34m.\u001b[0m\u001b[0mfigure\u001b[0m \u001b[0;34m=\u001b[0m \u001b[0mfigure\u001b[0m\u001b[0;34m\u001b[0m\u001b[0;34m\u001b[0m\u001b[0m\n\u001b[1;32m    378\u001b[0m \u001b[0;34m\u001b[0m\u001b[0m\n\u001b[0;32m--> 379\u001b[0;31m         super().__init__(nrows, ncols,\n\u001b[0m\u001b[1;32m    380\u001b[0m                          \u001b[0mwidth_ratios\u001b[0m\u001b[0;34m=\u001b[0m\u001b[0mwidth_ratios\u001b[0m\u001b[0;34m,\u001b[0m\u001b[0;34m\u001b[0m\u001b[0;34m\u001b[0m\u001b[0m\n\u001b[1;32m    381\u001b[0m                          height_ratios=height_ratios)\n",
            "\u001b[0;32m/usr/local/lib/python3.10/dist-packages/matplotlib/gridspec.py\u001b[0m in \u001b[0;36m__init__\u001b[0;34m(self, nrows, ncols, height_ratios, width_ratios)\u001b[0m\n\u001b[1;32m     47\u001b[0m         \"\"\"\n\u001b[1;32m     48\u001b[0m         \u001b[0;32mif\u001b[0m \u001b[0;32mnot\u001b[0m \u001b[0misinstance\u001b[0m\u001b[0;34m(\u001b[0m\u001b[0mnrows\u001b[0m\u001b[0;34m,\u001b[0m \u001b[0mIntegral\u001b[0m\u001b[0;34m)\u001b[0m \u001b[0;32mor\u001b[0m \u001b[0mnrows\u001b[0m \u001b[0;34m<=\u001b[0m \u001b[0;36m0\u001b[0m\u001b[0;34m:\u001b[0m\u001b[0;34m\u001b[0m\u001b[0;34m\u001b[0m\u001b[0m\n\u001b[0;32m---> 49\u001b[0;31m             raise ValueError(\n\u001b[0m\u001b[1;32m     50\u001b[0m                 f\"Number of rows must be a positive integer, not {nrows!r}\")\n\u001b[1;32m     51\u001b[0m         \u001b[0;32mif\u001b[0m \u001b[0;32mnot\u001b[0m \u001b[0misinstance\u001b[0m\u001b[0;34m(\u001b[0m\u001b[0mncols\u001b[0m\u001b[0;34m,\u001b[0m \u001b[0mIntegral\u001b[0m\u001b[0;34m)\u001b[0m \u001b[0;32mor\u001b[0m \u001b[0mncols\u001b[0m \u001b[0;34m<=\u001b[0m \u001b[0;36m0\u001b[0m\u001b[0;34m:\u001b[0m\u001b[0;34m\u001b[0m\u001b[0;34m\u001b[0m\u001b[0m\n",
            "\u001b[0;31mValueError\u001b[0m: Number of rows must be a positive integer, not 4.0"
          ]
        },
        {
          "output_type": "display_data",
          "data": {
            "text/plain": [
              "<Figure size 2000x1500 with 1 Axes>"
            ],
            "image/png": "[encoded data removed]"
          },
          "metadata": {}
        }
      ],
      "source": [
        "import itertools\n",
        "\n",
        "col = dataset.columns[:8]\n",
        "plt.subplots(figsize = (20, 15))\n",
        "length = len(col)\n",
        "\n",
        "for i, j in itertools.zip_longest(col, range(length)):\n",
        "    plt.subplot((length/2), 3, j + 1)\n",
        "    plt.subplots_adjust(wspace = 0.1,hspace = 0.5)\n",
        "    dataset[i].hist(bins = 20)\n",
        "    plt.title(i)\n",
        "plt.show()"
      ],
      "id": "XJErW5bV58Wb"
    },
    {
      "cell_type": "code",
      "execution_count": null,
      "metadata": {
        "id": "oZ7AgUS458Wb"
      },
      "outputs": [],
      "source": [
        "from pandas.plotting import scatter_matrix\n",
        "scatter_matrix(dataset, figsize = (20, 20));"
      ],
      "id": "oZ7AgUS458Wb"
    },
    {
      "cell_type": "code",
      "execution_count": null,
      "metadata": {
        "id": "_JXoYSEj58Wb"
      },
      "outputs": [],
      "source": [
        "sns.pairplot(data = dataset, hue = 'Outcome')\n",
        "plt.show()"
      ],
      "id": "_JXoYSEj58Wb"
    },
    {
      "cell_type": "code",
      "execution_count": null,
      "metadata": {
        "id": "tUe0PzOU58Wb"
      },
      "outputs": [],
      "source": [
        "sns.heatmap(dataset.corr(), annot = True)\n",
        "plt.show()"
      ],
      "id": "tUe0PzOU58Wb"
    },
    {
      "cell_type": "markdown",
      "metadata": {
        "id": "qss2cL7f58Wc"
      },
      "source": [
        "# Data Preprocessing"
      ],
      "id": "qss2cL7f58Wc"
    },
    {
      "cell_type": "code",
      "execution_count": null,
      "metadata": {
        "id": "GV_Ie9m058Wc"
      },
      "outputs": [],
      "source": [
        "dataset_new = dataset"
      ],
      "id": "GV_Ie9m058Wc"
    },
    {
      "cell_type": "code",
      "execution_count": null,
      "metadata": {
        "id": "7SBsvxmn58Wc"
      },
      "outputs": [],
      "source": [
        "dataset_new.isnull().sum()"
      ],
      "id": "7SBsvxmn58Wc"
    },
    {
      "cell_type": "markdown",
      "metadata": {
        "id": "4q3f--2Y58Wc"
      },
      "source": [
        "# Recursive Partition Algorithm"
      ],
      "id": "4q3f--2Y58Wc"
    },
    {
      "cell_type": "code",
      "execution_count": null,
      "metadata": {
        "id": "_tQ3ACpg58Wc"
      },
      "outputs": [],
      "source": [
        "x = dataset.drop(columns=['Outcome'])\n",
        "y = dataset['Outcome']\n",
        "X = dataset['Age']"
      ],
      "id": "_tQ3ACpg58Wc"
    },
    {
      "cell_type": "code",
      "execution_count": null,
      "metadata": {
        "id": "8yhrgvDT58Wc"
      },
      "outputs": [],
      "source": [
        "from sklearn import tree\n",
        "clf = tree.DecisionTreeClassifier()\n",
        "clf = clf.fit(x, y)"
      ],
      "id": "8yhrgvDT58Wc"
    },
    {
      "cell_type": "code",
      "execution_count": null,
      "metadata": {
        "id": "94-L2ZxM58Wc"
      },
      "outputs": [],
      "source": [
        "tree.plot_tree(clf)"
      ],
      "id": "94-L2ZxM58Wc"
    },
    {
      "cell_type": "code",
      "execution_count": null,
      "metadata": {
        "id": "BW6HXf9c58Wc"
      },
      "outputs": [],
      "source": [
        "text_representation = tree.export_text(clf)\n",
        "print(text_representation)"
      ],
      "id": "BW6HXf9c58Wc"
    },
    {
      "cell_type": "markdown",
      "metadata": {
        "id": "sjZXhz6A58Wc"
      },
      "source": [
        "# Principal Component Analysis"
      ],
      "id": "sjZXhz6A58Wc"
    },
    {
      "cell_type": "markdown",
      "metadata": {
        "id": "U5V7RBeO58Wc"
      },
      "source": [
        "# Data scaling\n",
        "PCA requires scaling/normalization of the data to work properly"
      ],
      "id": "U5V7RBeO58Wc"
    },
    {
      "cell_type": "code",
      "execution_count": null,
      "metadata": {
        "id": "7kOWeGnV58Wc"
      },
      "outputs": [],
      "source": [
        "from sklearn.preprocessing import StandardScaler"
      ],
      "id": "7kOWeGnV58Wc"
    },
    {
      "cell_type": "code",
      "execution_count": null,
      "metadata": {
        "id": "iOq_m59D58Wd"
      },
      "outputs": [],
      "source": [
        "scaler = StandardScaler()"
      ],
      "id": "iOq_m59D58Wd"
    },
    {
      "cell_type": "code",
      "execution_count": null,
      "metadata": {
        "id": "a2jMxHFA58Wd"
      },
      "outputs": [],
      "source": [
        "dataset"
      ],
      "id": "a2jMxHFA58Wd"
    },
    {
      "cell_type": "code",
      "execution_count": null,
      "metadata": {
        "id": "xGEPryKJ58Wd"
      },
      "outputs": [],
      "source": [
        "X = dataset.drop(columns=['Outcome'])\n",
        "y = dataset['Outcome']"
      ],
      "id": "xGEPryKJ58Wd"
    },
    {
      "cell_type": "code",
      "execution_count": null,
      "metadata": {
        "id": "IEp1Dgqr58Wd"
      },
      "outputs": [],
      "source": [
        "X = scaler.fit_transform(X)"
      ],
      "id": "IEp1Dgqr58Wd"
    },
    {
      "cell_type": "code",
      "execution_count": null,
      "metadata": {
        "id": "KxVS9cIY58Wd"
      },
      "outputs": [],
      "source": [
        "dfx = pd.DataFrame(data=X,columns=dataset.columns[0:8])"
      ],
      "id": "KxVS9cIY58Wd"
    },
    {
      "cell_type": "code",
      "execution_count": null,
      "metadata": {
        "id": "234s9pvE58Wd"
      },
      "outputs": [],
      "source": [
        "dfx.head(10)"
      ],
      "id": "234s9pvE58Wd"
    },
    {
      "cell_type": "code",
      "execution_count": null,
      "metadata": {
        "id": "_uJF81ZR58Wd"
      },
      "outputs": [],
      "source": [
        "dfx.describe()"
      ],
      "id": "_uJF81ZR58Wd"
    },
    {
      "cell_type": "markdown",
      "metadata": {
        "id": "uKcuuXd258Wd"
      },
      "source": [
        "# PCA class import and analysis"
      ],
      "id": "uKcuuXd258Wd"
    },
    {
      "cell_type": "code",
      "execution_count": null,
      "metadata": {
        "id": "wggFGYdw58Wd"
      },
      "outputs": [],
      "source": [
        "from sklearn.decomposition import PCA"
      ],
      "id": "wggFGYdw58Wd"
    },
    {
      "cell_type": "code",
      "execution_count": null,
      "metadata": {
        "id": "ZXzBP3gF58We"
      },
      "outputs": [],
      "source": [
        "pca = PCA(n_components=None)"
      ],
      "id": "ZXzBP3gF58We"
    },
    {
      "cell_type": "code",
      "execution_count": null,
      "metadata": {
        "id": "JoBtaxwz58We"
      },
      "outputs": [],
      "source": [
        "dfx_pca = pca.fit(dfx)"
      ],
      "id": "JoBtaxwz58We"
    },
    {
      "cell_type": "code",
      "execution_count": null,
      "metadata": {
        "id": "9luxDoQd58We"
      },
      "outputs": [],
      "source": [
        "plt.figure(figsize=(10,6))\n",
        "plt.scatter(x=[i+1 for i in range(len(dfx_pca.explained_variance_ratio_))],\n",
        "            y=dfx_pca.explained_variance_ratio_,\n",
        "           s=200, alpha=0.75,c='orange',edgecolor='k')\n",
        "plt.grid(True)\n",
        "plt.title(\"Explained variance ratio of the \\nfitted principal component vector\\n\",fontsize=25)\n",
        "plt.xlabel(\"Principal components\",fontsize=15)\n",
        "plt.xticks([i+1 for i in range(len(dfx_pca.explained_variance_ratio_))],fontsize=15)\n",
        "plt.yticks(fontsize=15)\n",
        "plt.ylabel(\"Explained variance ratio\",fontsize=15)\n",
        "plt.show()\n"
      ],
      "id": "9luxDoQd58We"
    },
    {
      "cell_type": "code",
      "execution_count": null,
      "metadata": {
        "id": "2gLfr3_b58We"
      },
      "outputs": [],
      "source": [
        "dfx_trans = pca.transform(dfx)"
      ],
      "id": "2gLfr3_b58We"
    },
    {
      "cell_type": "code",
      "execution_count": null,
      "metadata": {
        "id": "IEh95CE258Wh"
      },
      "outputs": [],
      "source": [
        "dfx_trans = pd.DataFrame(data=dfx_trans)\n",
        "dfx_trans.head(10)"
      ],
      "id": "IEh95CE258Wh"
    },
    {
      "cell_type": "code",
      "execution_count": null,
      "metadata": {
        "id": "OiQA0hPf58Wi"
      },
      "outputs": [],
      "source": [
        "plt.figure(figsize=(10,6))\n",
        "plt.scatter(dfx_trans[0],dfx_trans[1],c=dataset['Outcome'],edgecolors='k',alpha=0.75,s=150)\n",
        "plt.grid(True)\n",
        "plt.title(\"Class separation using first two principal components\\n\",fontsize=20)\n",
        "plt.xlabel(\"Principal component-1\",fontsize=15)\n",
        "plt.ylabel(\"Principal component-2\",fontsize=15)\n",
        "plt.show()"
      ],
      "id": "OiQA0hPf58Wi"
    },
    {
      "cell_type": "markdown",
      "metadata": {
        "id": "oqlXa7Tk58Wi"
      },
      "source": [
        "# Accuracy, Sensitivity, and Specificity evaluation with respect to attribute set"
      ],
      "id": "oqlXa7Tk58Wi"
    },
    {
      "cell_type": "markdown",
      "metadata": {
        "id": "n9LMBZzv58Wi"
      },
      "source": [
        "# A1, A2, A3, A4"
      ],
      "id": "n9LMBZzv58Wi"
    },
    {
      "cell_type": "code",
      "execution_count": null,
      "metadata": {
        "id": "hpYEX4l_58Wi"
      },
      "outputs": [],
      "source": [
        "X = dfx_trans.iloc[:,[0,1,2,3]].values\n",
        "Y = dataset.iloc[:,8].values"
      ],
      "id": "hpYEX4l_58Wi"
    },
    {
      "cell_type": "code",
      "execution_count": null,
      "metadata": {
        "id": "1FGkb35858Wi"
      },
      "outputs": [],
      "source": [
        "from sklearn.model_selection import train_test_split\n",
        "X_train, X_test, y_train, y_test = train_test_split(X, y, test_size = 0.30)"
      ],
      "id": "1FGkb35858Wi"
    },
    {
      "cell_type": "code",
      "execution_count": null,
      "metadata": {
        "id": "GD42uGdx58Wi"
      },
      "outputs": [],
      "source": [
        "from sklearn.metrics import confusion_matrix, accuracy_score, classification_report\n",
        "\n",
        "\n",
        "def evaluate(model, X_train, X_test, y_train, y_test):\n",
        "    y_test_pred = model.predict(X_test)\n",
        "    y_train_pred = model.predict(X_train)\n",
        "\n",
        "    print(\"TRAINIG RESULTS: \\n===============================\")\n",
        "    clf_report = pd.DataFrame(classification_report(y_train, y_train_pred, output_dict=True))\n",
        "    print(f\"CONFUSION MATRIX:\\n{confusion_matrix(y_train, y_train_pred)}\")\n",
        "    print(f\"ACCURACY SCORE:\\n{accuracy_score(y_train, y_train_pred):.4f}\")\n",
        "    print(f\"CLASSIFICATION REPORT:\\n{clf_report}\")\n",
        "\n",
        "    print(\"TESTING RESULTS: \\n===============================\")\n",
        "    clf_report = pd.DataFrame(classification_report(y_test, y_test_pred, output_dict=True))\n",
        "    print(f\"CONFUSION MATRIX:\\n{confusion_matrix(y_test, y_test_pred)}\")\n",
        "    print(f\"ACCURACY SCORE:\\n{accuracy_score(y_test, y_test_pred):.4f}\")\n",
        "    print(f\"CLASSIFICATION REPORT:\\n{clf_report}\")"
      ],
      "id": "GD42uGdx58Wi"
    },
    {
      "cell_type": "code",
      "execution_count": null,
      "metadata": {
        "id": "2UOSazQm58Wi"
      },
      "outputs": [],
      "source": [
        "from sklearn.neighbors import KNeighborsClassifier\n",
        "gnb = KNeighborsClassifier(n_neighbors=100)\n",
        "gnb.fit(X_train, y_train)"
      ],
      "id": "2UOSazQm58Wi"
    },
    {
      "cell_type": "code",
      "execution_count": null,
      "metadata": {
        "id": "qDQBk3R058Wi"
      },
      "outputs": [],
      "source": [
        "evaluate(gnb, X_train, X_test, y_train, y_test)"
      ],
      "id": "qDQBk3R058Wi"
    },
    {
      "cell_type": "markdown",
      "metadata": {
        "id": "Vq1ZLPCr58Wi"
      },
      "source": [
        "# A1, A2, A3, A4,A6"
      ],
      "id": "Vq1ZLPCr58Wi"
    },
    {
      "cell_type": "code",
      "execution_count": null,
      "metadata": {
        "id": "Q-AsVYEL58Wj"
      },
      "outputs": [],
      "source": [
        "X = dfx_trans.iloc[:,[0,1,2,3,5]].values\n",
        "Y = dataset.iloc[:,8].values"
      ],
      "id": "Q-AsVYEL58Wj"
    },
    {
      "cell_type": "code",
      "execution_count": null,
      "metadata": {
        "id": "67lYft6l58Wj"
      },
      "outputs": [],
      "source": [
        "from sklearn.model_selection import train_test_split\n",
        "X_train, X_test, y_train, y_test = train_test_split(X, y, test_size = 0.30)"
      ],
      "id": "67lYft6l58Wj"
    },
    {
      "cell_type": "code",
      "execution_count": null,
      "metadata": {
        "id": "vbS1bAWv58Wj"
      },
      "outputs": [],
      "source": [
        "\n",
        "gnb.fit(X_train, y_train)"
      ],
      "id": "vbS1bAWv58Wj"
    },
    {
      "cell_type": "code",
      "execution_count": null,
      "metadata": {
        "id": "jbBNsrvS58Wj"
      },
      "outputs": [],
      "source": [
        "evaluate(gnb, X_train, X_test, y_train, y_test)"
      ],
      "id": "jbBNsrvS58Wj"
    },
    {
      "cell_type": "markdown",
      "metadata": {
        "id": "9rUvkCgc58Wj"
      },
      "source": [
        "# A1, A2, A3, A4,A5, A6"
      ],
      "id": "9rUvkCgc58Wj"
    },
    {
      "cell_type": "code",
      "execution_count": null,
      "metadata": {
        "id": "yPaDX9bw58Wj"
      },
      "outputs": [],
      "source": [
        "X = dfx_trans.iloc[:,[0,1,2,3,4,5]].values\n",
        "Y = dataset.iloc[:,8].values"
      ],
      "id": "yPaDX9bw58Wj"
    },
    {
      "cell_type": "code",
      "execution_count": null,
      "metadata": {
        "id": "Q9FOdR3a58Wj"
      },
      "outputs": [],
      "source": [
        "from sklearn.model_selection import train_test_split\n",
        "X_train, X_test, y_train, y_test = train_test_split(X, y, test_size = 0.30)"
      ],
      "id": "Q9FOdR3a58Wj"
    },
    {
      "cell_type": "code",
      "execution_count": null,
      "metadata": {
        "id": "TLU2AfP-58Wj"
      },
      "outputs": [],
      "source": [
        "\n",
        "gnb.fit(X_train, y_train)"
      ],
      "id": "TLU2AfP-58Wj"
    },
    {
      "cell_type": "code",
      "execution_count": null,
      "metadata": {
        "id": "RrFUF5zM58Wk"
      },
      "outputs": [],
      "source": [
        "evaluate(gnb, X_train, X_test, y_train, y_test)"
      ],
      "id": "RrFUF5zM58Wk"
    },
    {
      "cell_type": "markdown",
      "metadata": {
        "id": "R6fxkfv258Wk"
      },
      "source": [
        "# A2, A4, A5, A6,A8"
      ],
      "id": "R6fxkfv258Wk"
    },
    {
      "cell_type": "code",
      "execution_count": null,
      "metadata": {
        "id": "t6EkKKDL58Wk"
      },
      "outputs": [],
      "source": [
        "X = dfx_trans.iloc[:,[1,3,4,5,7]].values\n",
        "Y = dataset.iloc[:,8].values"
      ],
      "id": "t6EkKKDL58Wk"
    },
    {
      "cell_type": "code",
      "execution_count": null,
      "metadata": {
        "id": "OW6DjmpQ58Wk"
      },
      "outputs": [],
      "source": [
        "from sklearn.model_selection import train_test_split\n",
        "X_train, X_test, y_train, y_test = train_test_split(X, y, test_size = 0.30)"
      ],
      "id": "OW6DjmpQ58Wk"
    },
    {
      "cell_type": "code",
      "execution_count": null,
      "metadata": {
        "id": "vWNqcl5S58Wk"
      },
      "outputs": [],
      "source": [
        "\n",
        "gnb.fit(X_train, y_train)"
      ],
      "id": "vWNqcl5S58Wk"
    },
    {
      "cell_type": "code",
      "execution_count": null,
      "metadata": {
        "id": "rI-yRch458Wk"
      },
      "outputs": [],
      "source": [
        "evaluate(gnb, X_train, X_test, y_train, y_test)"
      ],
      "id": "rI-yRch458Wk"
    },
    {
      "cell_type": "markdown",
      "metadata": {
        "id": "T3C8wlwI58Wk"
      },
      "source": [
        "# A1, A2, A3, A7"
      ],
      "id": "T3C8wlwI58Wk"
    },
    {
      "cell_type": "code",
      "execution_count": null,
      "metadata": {
        "id": "WyhROy5758Wl"
      },
      "outputs": [],
      "source": [
        "X = dfx_trans.iloc[:,[0,1,2,6]].values\n",
        "Y = dataset.iloc[:,8].values"
      ],
      "id": "WyhROy5758Wl"
    },
    {
      "cell_type": "code",
      "execution_count": null,
      "metadata": {
        "id": "QVgoz5dK58Wl"
      },
      "outputs": [],
      "source": [
        "from sklearn.model_selection import train_test_split\n",
        "X_train, X_test, y_train, y_test = train_test_split(X, y, test_size = 0.30)\n",
        "\n",
        "gnb.fit(X_train, y_train)"
      ],
      "id": "QVgoz5dK58Wl"
    },
    {
      "cell_type": "code",
      "execution_count": null,
      "metadata": {
        "id": "z6Bujjnu58Wl"
      },
      "outputs": [],
      "source": [
        "evaluate(gnb, X_train, X_test, y_train, y_test)"
      ],
      "id": "z6Bujjnu58Wl"
    },
    {
      "cell_type": "markdown",
      "metadata": {
        "id": "Ua3d-eMA58Wl"
      },
      "source": [
        "# A1, A2, A3, A4,A5, A6, A7, A8"
      ],
      "id": "Ua3d-eMA58Wl"
    },
    {
      "cell_type": "code",
      "execution_count": null,
      "metadata": {
        "id": "-lEFhGbS58Wl"
      },
      "outputs": [],
      "source": [
        "X = dfx_trans.iloc[:,[0,1,2,3,4,5,6,7]].values\n",
        "Y = dataset.iloc[:,8].values"
      ],
      "id": "-lEFhGbS58Wl"
    },
    {
      "cell_type": "code",
      "execution_count": null,
      "metadata": {
        "id": "gIifWs3s58Wl"
      },
      "outputs": [],
      "source": [
        "from sklearn.model_selection import train_test_split\n",
        "X_train, X_test, y_train, y_test = train_test_split(X, y, test_size = 0.30)\n",
        "\n",
        "gnb.fit(X_train, y_train)"
      ],
      "id": "gIifWs3s58Wl"
    },
    {
      "cell_type": "code",
      "execution_count": null,
      "metadata": {
        "id": "8xb200zC58Wm"
      },
      "outputs": [],
      "source": [
        "evaluate(gnb, X_train, X_test, y_train, y_test)"
      ],
      "id": "8xb200zC58Wm"
    },
    {
      "cell_type": "markdown",
      "metadata": {
        "id": "viiVRmBn58Wm"
      },
      "source": [
        "# Full attribute set"
      ],
      "id": "viiVRmBn58Wm"
    },
    {
      "cell_type": "code",
      "execution_count": null,
      "metadata": {
        "id": "ALgO6TFf58Wm"
      },
      "outputs": [],
      "source": [
        "X = dfx_trans.values\n",
        "Y = dataset.iloc[:,8].values"
      ],
      "id": "ALgO6TFf58Wm"
    },
    {
      "cell_type": "code",
      "execution_count": null,
      "metadata": {
        "id": "dNCdBIKc58Wm"
      },
      "outputs": [],
      "source": [
        "from sklearn.model_selection import train_test_split\n",
        "X_train, X_test, y_train, y_test = train_test_split(X, y, test_size = 0.30)\n",
        "\n",
        "gnb.fit(X_train, y_train)"
      ],
      "id": "dNCdBIKc58Wm"
    },
    {
      "cell_type": "code",
      "execution_count": null,
      "metadata": {
        "id": "vx9LNQZ358Wm"
      },
      "outputs": [],
      "source": [
        "evaluate(gnb, X_train, X_test, y_train, y_test)"
      ],
      "id": "vx9LNQZ358Wm"
    },
    {
      "cell_type": "markdown",
      "metadata": {
        "id": "vBjMHNpk58Wm"
      },
      "source": [
        "# A8"
      ],
      "id": "vBjMHNpk58Wm"
    },
    {
      "cell_type": "code",
      "execution_count": null,
      "metadata": {
        "id": "DRWsbIWf58Wm"
      },
      "outputs": [],
      "source": [
        "X = dfx_trans.iloc[:,[7]].values\n",
        "Y = dataset.iloc[:,8].values"
      ],
      "id": "DRWsbIWf58Wm"
    },
    {
      "cell_type": "code",
      "execution_count": null,
      "metadata": {
        "id": "pN18s8um58Wm"
      },
      "outputs": [],
      "source": [
        "from sklearn.model_selection import train_test_split\n",
        "X_train, X_test, y_train, y_test = train_test_split(X, y, test_size = 0.30)\n",
        "\n",
        "gnb.fit(X_train, y_train)"
      ],
      "id": "pN18s8um58Wm"
    },
    {
      "cell_type": "code",
      "execution_count": null,
      "metadata": {
        "id": "LR5tTJ7s58Wm"
      },
      "outputs": [],
      "source": [
        "evaluate(gnb, X_train, X_test, y_train, y_test)"
      ],
      "id": "LR5tTJ7s58Wm"
    },
    {
      "cell_type": "markdown",
      "metadata": {
        "id": "8wJ9-3aS58Wn"
      },
      "source": [
        "# A7,A8"
      ],
      "id": "8wJ9-3aS58Wn"
    },
    {
      "cell_type": "code",
      "execution_count": null,
      "metadata": {
        "id": "C8dFyssm58Wn"
      },
      "outputs": [],
      "source": [
        "X = dfx_trans.iloc[:,[6,7]].values\n",
        "Y = dataset.iloc[:,8].values"
      ],
      "id": "C8dFyssm58Wn"
    },
    {
      "cell_type": "code",
      "execution_count": null,
      "metadata": {
        "id": "cLDJ5S0a58Wn"
      },
      "outputs": [],
      "source": [
        "from sklearn.model_selection import train_test_split\n",
        "X_train, X_test, y_train, y_test = train_test_split(X, y, test_size = 0.30)\n",
        "\n",
        "gnb.fit(X_train, y_train)"
      ],
      "id": "cLDJ5S0a58Wn"
    },
    {
      "cell_type": "code",
      "execution_count": null,
      "metadata": {
        "id": "J9O2O9A858Wn"
      },
      "outputs": [],
      "source": [
        "evaluate(gnb, X_train, X_test, y_train, y_test)"
      ],
      "id": "J9O2O9A858Wn"
    },
    {
      "cell_type": "markdown",
      "metadata": {
        "id": "uv7UGlN858Wn"
      },
      "source": [
        "# A6,A7,A8"
      ],
      "id": "uv7UGlN858Wn"
    },
    {
      "cell_type": "code",
      "execution_count": null,
      "metadata": {
        "id": "U4KWF5PD58Wn"
      },
      "outputs": [],
      "source": [
        "X = dfx_trans.iloc[:,[5,6,7]].values\n",
        "Y = dataset.iloc[:,8].values"
      ],
      "id": "U4KWF5PD58Wn"
    },
    {
      "cell_type": "code",
      "execution_count": null,
      "metadata": {
        "id": "R6vZWwxB58Wn"
      },
      "outputs": [],
      "source": [
        "from sklearn.model_selection import train_test_split\n",
        "X_train, X_test, y_train, y_test = train_test_split(X, y, test_size = 0.30)\n",
        "\n",
        "gnb.fit(X_train, y_train)"
      ],
      "id": "R6vZWwxB58Wn"
    },
    {
      "cell_type": "code",
      "execution_count": null,
      "metadata": {
        "id": "pSxuK9pL58Wn"
      },
      "outputs": [],
      "source": [
        "evaluate(gnb, X_train, X_test, y_train, y_test)"
      ],
      "id": "pSxuK9pL58Wn"
    },
    {
      "cell_type": "markdown",
      "metadata": {
        "id": "8UmLWvm958Wo"
      },
      "source": [
        "# A5,A6,A7,A8"
      ],
      "id": "8UmLWvm958Wo"
    },
    {
      "cell_type": "code",
      "execution_count": null,
      "metadata": {
        "id": "RDyapVkT58Wo"
      },
      "outputs": [],
      "source": [
        "X = dfx_trans.iloc[:,[4,5,6,7]].values\n",
        "Y = dataset.iloc[:,8].values"
      ],
      "id": "RDyapVkT58Wo"
    },
    {
      "cell_type": "code",
      "execution_count": null,
      "metadata": {
        "id": "8g2FdXCh58Wo"
      },
      "outputs": [],
      "source": [
        "from sklearn.model_selection import train_test_split\n",
        "X_train, X_test, y_train, y_test = train_test_split(X, y, test_size = 0.30)\n",
        "\n",
        "gnb.fit(X_train, y_train)"
      ],
      "id": "8g2FdXCh58Wo"
    },
    {
      "cell_type": "code",
      "execution_count": null,
      "metadata": {
        "id": "A5bld5sI58Wo"
      },
      "outputs": [],
      "source": [
        "evaluate(gnb, X_train, X_test, y_train, y_test)"
      ],
      "id": "A5bld5sI58Wo"
    },
    {
      "cell_type": "markdown",
      "metadata": {
        "id": "r4ABrWVU58Wo"
      },
      "source": [
        "# A4,A5,A6,A7,A8"
      ],
      "id": "r4ABrWVU58Wo"
    },
    {
      "cell_type": "code",
      "execution_count": null,
      "metadata": {
        "id": "dnuOiNo958Wo"
      },
      "outputs": [],
      "source": [
        "X = dfx_trans.iloc[:,[3,4,5,6,7]].values\n",
        "Y = dataset.iloc[:,8].values"
      ],
      "id": "dnuOiNo958Wo"
    },
    {
      "cell_type": "code",
      "execution_count": null,
      "metadata": {
        "id": "06UNBtam58Wo"
      },
      "outputs": [],
      "source": [
        "from sklearn.model_selection import train_test_split\n",
        "X_train, X_test, y_train, y_test = train_test_split(X, y, test_size = 0.30)\n",
        "\n",
        "gnb.fit(X_train, y_train)"
      ],
      "id": "06UNBtam58Wo"
    },
    {
      "cell_type": "code",
      "execution_count": null,
      "metadata": {
        "id": "xMlH_XuR58Wo"
      },
      "outputs": [],
      "source": [
        "evaluate(gnb, X_train, X_test, y_train, y_test)"
      ],
      "id": "xMlH_XuR58Wo"
    },
    {
      "cell_type": "markdown",
      "metadata": {
        "id": "v016Y2ls58Wo"
      },
      "source": [
        "# A3,A4,A5,A6,A7,A8"
      ],
      "id": "v016Y2ls58Wo"
    },
    {
      "cell_type": "code",
      "execution_count": null,
      "metadata": {
        "id": "n5Ss_k2x58Wo"
      },
      "outputs": [],
      "source": [
        "X = dfx_trans.iloc[:,[2,3,4,5,6,7]].values\n",
        "Y = dataset.iloc[:,8].values"
      ],
      "id": "n5Ss_k2x58Wo"
    },
    {
      "cell_type": "code",
      "execution_count": null,
      "metadata": {
        "id": "FWEgJ-jt58Wp"
      },
      "outputs": [],
      "source": [
        "from sklearn.model_selection import train_test_split\n",
        "X_train, X_test, y_train, y_test = train_test_split(X, y, test_size = 0.30)\n",
        "\n",
        "gnb.fit(X_train, y_train)"
      ],
      "id": "FWEgJ-jt58Wp"
    },
    {
      "cell_type": "code",
      "execution_count": null,
      "metadata": {
        "id": "tZFX0_ds58Wp"
      },
      "outputs": [],
      "source": [
        "evaluate(gnb, X_train, X_test, y_train, y_test)"
      ],
      "id": "tZFX0_ds58Wp"
    },
    {
      "cell_type": "markdown",
      "metadata": {
        "id": "Lt2t6L_258Wp"
      },
      "source": [
        "# A2,A3,A4,A5,A6,A7,A8"
      ],
      "id": "Lt2t6L_258Wp"
    },
    {
      "cell_type": "code",
      "execution_count": null,
      "metadata": {
        "id": "wafdY15U58Wp"
      },
      "outputs": [],
      "source": [
        "X = dfx_trans.iloc[:,[1,2,3,4,5,6,7]].values\n",
        "Y = dataset.iloc[:,8].values"
      ],
      "id": "wafdY15U58Wp"
    },
    {
      "cell_type": "code",
      "execution_count": null,
      "metadata": {
        "id": "J_bONjE_58Wp"
      },
      "outputs": [],
      "source": [
        "from sklearn.model_selection import train_test_split\n",
        "X_train, X_test, y_train, y_test = train_test_split(X, y, test_size = 0.30)\n",
        "\n",
        "gnb.fit(X_train, y_train)"
      ],
      "id": "J_bONjE_58Wp"
    },
    {
      "cell_type": "code",
      "execution_count": null,
      "metadata": {
        "id": "RelzdVSZ58Wp"
      },
      "outputs": [],
      "source": [
        "evaluate(gnb, X_train, X_test, y_train, y_test)"
      ],
      "id": "RelzdVSZ58Wp"
    },
    {
      "cell_type": "markdown",
      "metadata": {
        "id": "LmVF5qjn58Wp"
      },
      "source": [
        "# Data Modelling"
      ],
      "id": "LmVF5qjn58Wp"
    },
    {
      "cell_type": "markdown",
      "metadata": {
        "id": "Za5ncP2k58Wp"
      },
      "source": [
        "# Naïve Bayes"
      ],
      "id": "Za5ncP2k58Wp"
    },
    {
      "cell_type": "code",
      "execution_count": null,
      "metadata": {
        "id": "MvaBbRV558Wq"
      },
      "outputs": [],
      "source": [
        "x = dfx_trans.values\n",
        "y = dataset.iloc[:,8].values"
      ],
      "id": "MvaBbRV558Wq"
    },
    {
      "cell_type": "code",
      "execution_count": null,
      "metadata": {
        "id": "WZ7GITcI58Wq"
      },
      "outputs": [],
      "source": [
        "from sklearn.naive_bayes import GaussianNB\n",
        "gnb = GaussianNB()\n",
        "gnb.fit(X_train, y_train)"
      ],
      "id": "WZ7GITcI58Wq"
    },
    {
      "cell_type": "code",
      "execution_count": null,
      "metadata": {
        "id": "SFhyNMFF58Wq"
      },
      "outputs": [],
      "source": [
        "x_train, x_test, y_train, y_test = train_test_split(x, y, test_size=0.3, random_state=4)"
      ],
      "id": "SFhyNMFF58Wq"
    },
    {
      "cell_type": "code",
      "execution_count": null,
      "metadata": {
        "id": "pZEy7VvH58Wq"
      },
      "outputs": [],
      "source": [
        "gnb.fit(x_train, y_train)"
      ],
      "id": "pZEy7VvH58Wq"
    },
    {
      "cell_type": "code",
      "execution_count": null,
      "metadata": {
        "id": "e_XB_59h58Wq"
      },
      "outputs": [],
      "source": [
        "evaluate(gnb, x_train, x_test, y_train, y_test)"
      ],
      "id": "e_XB_59h58Wq"
    },
    {
      "cell_type": "code",
      "execution_count": null,
      "metadata": {
        "id": "xDZWCGc958Wq"
      },
      "outputs": [],
      "source": [
        "y_pred_gnb = gnb.predict(x_test)\n",
        "cm = confusion_matrix(y_test, y_pred_gnb)\n",
        "cm\n",
        "gnb_result = accuracy_score(y_test,y_pred_gnb)\n",
        "print(\"Accuracy :\",gnb_result)\n",
        "recall_gnb = cm[0][0]/(cm[0][0] + cm[0][1])\n",
        "precision_gnb = cm[0][0]/(cm[0][0]+cm[1][1])\n",
        "recall_gnb,precision_gnb"
      ],
      "id": "xDZWCGc958Wq"
    },
    {
      "cell_type": "markdown",
      "metadata": {
        "id": "4uDHJfWx58Wr"
      },
      "source": [
        "# SVM"
      ],
      "id": "4uDHJfWx58Wr"
    },
    {
      "cell_type": "code",
      "execution_count": null,
      "metadata": {
        "id": "fEmB7XBo58Wr"
      },
      "outputs": [],
      "source": [
        "from sklearn import svm\n",
        "svm = svm.SVC()"
      ],
      "id": "fEmB7XBo58Wr"
    },
    {
      "cell_type": "code",
      "execution_count": null,
      "metadata": {
        "id": "UIpoUPpt58Wr"
      },
      "outputs": [],
      "source": [
        "svm.fit(x_train, y_train)"
      ],
      "id": "UIpoUPpt58Wr"
    },
    {
      "cell_type": "code",
      "execution_count": null,
      "metadata": {
        "id": "rNsARcsv58Wr"
      },
      "outputs": [],
      "source": [
        "evaluate(svm, x_train, x_test, y_train, y_test)"
      ],
      "id": "rNsARcsv58Wr"
    },
    {
      "cell_type": "code",
      "execution_count": null,
      "metadata": {
        "id": "qwuVvV1-58Wr"
      },
      "outputs": [],
      "source": [
        "y_pred_svm = svm.predict(x_test)\n",
        "from sklearn.metrics import confusion_matrix\n",
        "cm = confusion_matrix(y_test, y_pred_svm)\n",
        "cm\n",
        "from sklearn.metrics import accuracy_score\n",
        "svm_result = accuracy_score(y_test,y_pred_svm)\n",
        "print(\"Accuracy :\",svm_result)\n",
        "recall_svm = cm[0][0]/(cm[0][0] + cm[0][1])\n",
        "precision_svm = cm[0][0]/(cm[0][0]+cm[1][1])\n",
        "recall_svm,precision_svm"
      ],
      "id": "qwuVvV1-58Wr"
    },
    {
      "cell_type": "markdown",
      "metadata": {
        "id": "j-8mZuEQ58Wr"
      },
      "source": [
        "# Decision Tree"
      ],
      "id": "j-8mZuEQ58Wr"
    },
    {
      "cell_type": "code",
      "execution_count": null,
      "metadata": {
        "id": "y1WSwES458Wr"
      },
      "outputs": [],
      "source": [
        "from sklearn import tree\n",
        "dt = tree.DecisionTreeClassifier()"
      ],
      "id": "y1WSwES458Wr"
    },
    {
      "cell_type": "code",
      "execution_count": null,
      "metadata": {
        "id": "ef-P3Bqc58Wr"
      },
      "outputs": [],
      "source": [
        "dt.fit(x_train, y_train)"
      ],
      "id": "ef-P3Bqc58Wr"
    },
    {
      "cell_type": "code",
      "execution_count": null,
      "metadata": {
        "id": "CbzLJQWP58Wr"
      },
      "outputs": [],
      "source": [
        "evaluate(dt, x_train, x_test, y_train, y_test)"
      ],
      "id": "CbzLJQWP58Wr"
    },
    {
      "cell_type": "code",
      "execution_count": null,
      "metadata": {
        "id": "NwRGnQZs58Ws"
      },
      "outputs": [],
      "source": [
        "y_pred_dt = dt.predict(x_test)\n",
        "cm = confusion_matrix(y_test, y_pred_dt)\n",
        "cm\n",
        "dt_result = accuracy_score(y_test,y_pred_dt)\n",
        "print(\"Accuracy :\",dt_result)\n",
        "recall_dt = cm[0][0]/(cm[0][0] + cm[0][1])\n",
        "precision_dt = cm[0][0]/(cm[0][0]+cm[1][1])\n",
        "recall_dt,precision_dt"
      ],
      "id": "NwRGnQZs58Ws"
    },
    {
      "cell_type": "markdown",
      "metadata": {
        "id": "IJqxcJ5k58Ws"
      },
      "source": [
        "# Random Forest Classification"
      ],
      "id": "IJqxcJ5k58Ws"
    },
    {
      "cell_type": "code",
      "execution_count": null,
      "metadata": {
        "id": "cF7l2hFo58Ws"
      },
      "outputs": [],
      "source": [
        "from sklearn.ensemble import RandomForestClassifier"
      ],
      "id": "cF7l2hFo58Ws"
    },
    {
      "cell_type": "code",
      "execution_count": null,
      "metadata": {
        "id": "Mv77IhJw58Ws"
      },
      "outputs": [],
      "source": [
        "RF = RandomForestClassifier(max_depth=2, random_state=0)"
      ],
      "id": "Mv77IhJw58Ws"
    },
    {
      "cell_type": "code",
      "execution_count": null,
      "metadata": {
        "id": "kog1A6tP58Ws"
      },
      "outputs": [],
      "source": [
        "RF.fit(x_train, y_train)"
      ],
      "id": "kog1A6tP58Ws"
    },
    {
      "cell_type": "code",
      "execution_count": null,
      "metadata": {
        "id": "YnLHKZ4358Ws"
      },
      "outputs": [],
      "source": [
        "evaluate(RF, x_train, x_test, y_train, y_test)"
      ],
      "id": "YnLHKZ4358Ws"
    },
    {
      "cell_type": "code",
      "execution_count": null,
      "metadata": {
        "id": "wYcFAbNy58Ws"
      },
      "outputs": [],
      "source": [
        "y_pred_rf = RF.predict(x_test)\n",
        "cm = confusion_matrix(y_test, y_pred_rf)\n",
        "cm\n",
        "rf_result = accuracy_score(y_test,y_pred_rf)\n",
        "print(\"Accuracy :\",rf_result)\n",
        "recall_rf = cm[0][0]/(cm[0][0] + cm[0][1])\n",
        "precision_rf = cm[0][0]/(cm[0][0]+cm[1][1])\n",
        "recall_rf,precision_rf"
      ],
      "id": "wYcFAbNy58Ws"
    },
    {
      "cell_type": "markdown",
      "metadata": {
        "id": "dQ52Cvmz58Wt"
      },
      "source": [
        "# KNN"
      ],
      "id": "dQ52Cvmz58Wt"
    },
    {
      "cell_type": "code",
      "execution_count": null,
      "metadata": {
        "id": "sxyG8_Fr58Wt"
      },
      "outputs": [],
      "source": [
        "from sklearn.neighbors import KNeighborsClassifier\n",
        "KNN= KNeighborsClassifier(n_neighbors=100)\n",
        "from sklearn.model_selection import cross_val_score"
      ],
      "id": "sxyG8_Fr58Wt"
    },
    {
      "cell_type": "code",
      "execution_count": null,
      "metadata": {
        "id": "gpOf1vRB58Wt"
      },
      "outputs": [],
      "source": [
        "KNN.fit(x_train, y_train)"
      ],
      "id": "gpOf1vRB58Wt"
    },
    {
      "cell_type": "code",
      "execution_count": null,
      "metadata": {
        "id": "1wtFuD6b58Wt"
      },
      "outputs": [],
      "source": [
        "evaluate(KNN, x_train, x_test, y_train, y_test)"
      ],
      "id": "1wtFuD6b58Wt"
    },
    {
      "cell_type": "code",
      "execution_count": null,
      "metadata": {
        "id": "HWw6zpLf58Wt"
      },
      "outputs": [],
      "source": [
        "y_pred_knn = KNN.predict(x_test)\n",
        "cm = confusion_matrix(y_test, y_pred_knn)\n",
        "cm\n",
        "knn_result = accuracy_score(y_test,y_pred_knn)\n",
        "print(\"Accuracy :\",knn_result)\n",
        "recall_knn = cm[0][0]/(cm[0][0] + cm[0][1])\n",
        "precision_knn = cm[0][0]/(cm[0][0]+cm[1][1])\n",
        "recall_knn,precision_knn"
      ],
      "id": "HWw6zpLf58Wt"
    },
    {
      "cell_type": "markdown",
      "metadata": {
        "id": "KFxvzpjT58Wt"
      },
      "source": [
        "# Model Comparsion"
      ],
      "id": "KFxvzpjT58Wt"
    },
    {
      "cell_type": "code",
      "execution_count": null,
      "metadata": {
        "id": "VFeLamuD58Wt"
      },
      "outputs": [],
      "source": [
        "results ={'Accuracy': [svm_result*100,rf_result*100,dt_result*100,knn_result*100,gnb_result*100],\n",
        " 'Recall':[recall_svm*100,recall_rf*100,recall_dt*100,recall_knn*100,recall_gnb*100],\n",
        " 'Precision': [precision_svm*100,precision_rf*100,precision_dt*100,precision_knn*100,precision_gnb*100]}\n",
        "index = ['Suport Vector Machine','Random Forest','Decision Tree','KNNeighbors','Naive Bayes Classifier']"
      ],
      "id": "VFeLamuD58Wt"
    },
    {
      "cell_type": "code",
      "execution_count": null,
      "metadata": {
        "id": "0QLPzSzN58Wt"
      },
      "outputs": [],
      "source": [
        "results =pd.DataFrame(results,index=index)"
      ],
      "id": "0QLPzSzN58Wt"
    },
    {
      "cell_type": "code",
      "execution_count": null,
      "metadata": {
        "id": "8RnVPECD58Wu"
      },
      "outputs": [],
      "source": [
        "fig =results.plot(kind='bar',title='Comaprison of models',figsize =(19,19)).get_figure()\n",
        "fig.savefig('Final Result.png')"
      ],
      "id": "8RnVPECD58Wu"
    },
    {
      "cell_type": "code",
      "execution_count": null,
      "metadata": {
        "id": "dBTPWAfj58Wu"
      },
      "outputs": [],
      "source": [
        "results.plot(subplots=True,kind ='bar',figsize=(4,10))"
      ],
      "id": "dBTPWAfj58Wu"
    },
    {
      "cell_type": "code",
      "execution_count": null,
      "metadata": {
        "id": "YXBYqbQU58Wu"
      },
      "outputs": [],
      "source": [],
      "id": "YXBYqbQU58Wu"
    }
  ],
  "metadata": {
    "kernelspec": {
      "display_name": "Python 3",
      "language": "python",
      "name": "python3"
    },
    "language_info": {
      "codemirror_mode": {
        "name": "ipython",
        "version": 3
      },
      "file_extension": ".py",
      "mimetype": "text/x-python",
      "name": "python",
      "nbconvert_exporter": "python",
      "pygments_lexer": "ipython3",
      "version": "3.7.4"
    },
    "colab": {
      "provenance": [],
      "include_colab_link": true
    }
  },
  "nbformat": 4,
  "nbformat_minor": 5
}