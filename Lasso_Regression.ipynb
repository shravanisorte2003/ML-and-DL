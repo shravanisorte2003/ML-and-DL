{
  "nbformat": 4,
  "nbformat_minor": 0,
  "metadata": {
    "colab": {
      "provenance": [],
      "authorship_tag": "ABX9TyO9QK5dD05cr/QZL393YGus",
      "include_colab_link": true
    },
    "kernelspec": {
      "name": "python3",
      "display_name": "Python 3"
    },
    "language_info": {
      "name": "python"
    }
  },
  "cells": [
    {
      "cell_type": "markdown",
      "metadata": {
        "id": "view-in-github",
        "colab_type": "text"
      },
      "source": [
        "<a href=\"https://colab.research.google.com/github/shravanisorte2003/ML-and-DL/blob/main/Lasso_Regression.ipynb\" target=\"_parent\"><img src=\"https://colab.research.google.com/assets/colab-badge.svg\" alt=\"Open In Colab\"/></a>"
      ]
    },
    {
      "cell_type": "code",
      "execution_count": null,
      "metadata": {
        "id": "ip6pbpwK0ck5"
      },
      "outputs": [],
      "source": [
        "import numpy as np"
      ]
    },
    {
      "cell_type": "code",
      "source": [
        "class Lasso_Reggression():\n",
        "  #initialize the hyperparameter\n",
        "  def __init__(self,learning_rate, no_of_iteration,lambda_parameter):\n",
        "    self.learning_rate=learning_rate\n",
        "    self.no_of_iterations=no_of_iterations\n",
        "    self.lambda_parameter=lambda_parameter\n",
        "\n",
        "  #fitting the dataset to a Lasso Regression Model\n",
        "  def fit(self,X,Y):\n",
        "    #m--no. of rows(data points),n--cols(input features)\n",
        "    self.m,self.n=X.shape\n",
        "    self.w=np.zeros(self.n)\n",
        "    self.b=0\n",
        "    self.X=X\n",
        "    self.Y=Y\n",
        "\n",
        "    #implementing gradient descent algorithm for optimization\n",
        "\n",
        "    for i in range(no_of_iterations):\n",
        "      self.update_weights()\n",
        "\n",
        "    #function for the updating the wt. and bias value\n",
        "    def update_weights(self):\n",
        "      Y_prediction=self.predict(self.X)\n",
        "\n",
        "      #gradients(dw,db)\n",
        "      #gradients for weight\n",
        "      dw=np.zeros(self.n)\n",
        "\n",
        "      for i in range(self.n):\n",
        "        if self.w[i]>0:\n",
        "          dw[i]=(-(2*(self.X[:,i]).dot(self.Y-Y_prediction))+self.lambda_parameter)/self.m\n",
        "        else:\n",
        "          dw[i]=(-(2*(self.X[:,i]).dot(self.Y-Y_prediction))-self.lambda_parameter)/self.m\n",
        "\n",
        "      #gradient for bias\n",
        "      db=-2*np.sum(self.Y-Y_prediction)/self.m\n",
        "\n",
        "      #updating the weights and bias\n",
        "      self.w=self.w-self.learning_rate*dw;\n",
        "      self.b=self.b-self.learning_rate*db;\n",
        "\n",
        "      #predicting the target variable\n",
        "      def predict(self,X):\n",
        "        return X,dot(self.w)+self.b\n",
        "\n",
        "\n",
        "\n",
        "\n"
      ],
      "metadata": {
        "id": "8YE0DrgI1Py7"
      },
      "execution_count": null,
      "outputs": []
    }
  ]
}